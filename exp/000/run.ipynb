{
 "cells": [
  {
   "cell_type": "code",
   "execution_count": 5,
   "metadata": {},
   "outputs": [
    {
     "name": "stdout",
     "output_type": "stream",
     "text": [
      "exp_number: '000'\n",
      "run_time: base\n",
      "data:\n",
      "  input_root: ../../data/input\n",
      "  train_path: ../../data/input/train_features.csv\n",
      "  test_path: ../../data/input/test_features.csv\n",
      "  sample_submission_path: ../../data/input/sample_submission.csv\n",
      "  output_root: ../../data/output\n",
      "  results_root: ../../results\n",
      "  results_path: ../../results/000/base\n",
      "seed: 319\n",
      "n_splits: 5\n",
      "target: target\n",
      "\n"
     ]
    },
    {
     "data": {
      "text/plain": [
       "polars.config.Config"
      ]
     },
     "execution_count": 5,
     "metadata": {},
     "output_type": "execute_result"
    }
   ],
   "source": [
    "import pickle\n",
    "import pprint\n",
    "from datetime import datetime\n",
    "from pathlib import Path\n",
    "\n",
    "import lightgbm as lgb\n",
    "import matplotlib.pyplot as plt\n",
    "import numpy as np\n",
    "import pandas as pd\n",
    "import polars as pl\n",
    "import pytz\n",
    "import seaborn as sns\n",
    "from matplotlib_venn import venn2\n",
    "from omegaconf import OmegaConf\n",
    "from sklearn.model_selection import StratifiedKFold\n",
    "from sklearn.preprocessing import LabelEncoder\n",
    "\n",
    "from src.config import cfg\n",
    "from src.dir import create_dir\n",
    "from src.seed import seed_everything\n",
    "\n",
    "cfg.exp_number = Path().resolve().name\n",
    "print(OmegaConf.to_yaml(cfg, resolve=True))\n",
    "\n",
    "seed_everything(cfg.seed)\n",
    "pl.Config.set_fmt_str_lengths(1000)\n"
   ]
  },
  {
   "cell_type": "markdown",
   "metadata": {},
   "source": [
    "### データの読み込み"
   ]
  },
  {
   "cell_type": "code",
   "execution_count": 6,
   "metadata": {},
   "outputs": [],
   "source": [
    "# データの読み込み\n",
    "train = pl.read_csv(cfg.data.train_path, try_parse_dates=True)\n",
    "test = pl.read_csv(cfg.data.test_path, try_parse_dates=True)\n",
    "sample_submission = pl.read_csv(cfg.data.sample_submission_path, try_parse_dates=True)\n"
   ]
  },
  {
   "cell_type": "code",
   "execution_count": 11,
   "metadata": {},
   "outputs": [
    {
     "data": {
      "text/html": [
       "<div><style>\n",
       ".dataframe > thead > tr,\n",
       ".dataframe > tbody > tr {\n",
       "  text-align: right;\n",
       "  white-space: pre-wrap;\n",
       "}\n",
       "</style>\n",
       "<small>shape: (43_371, 30)</small><table border=\"1\" class=\"dataframe\"><thead><tr><th>ID</th><th>vEgo</th><th>aEgo</th><th>steeringAngleDeg</th><th>steeringTorque</th><th>brake</th><th>brakePressed</th><th>gas</th><th>gasPressed</th><th>gearShifter</th><th>leftBlinker</th><th>rightBlinker</th><th>x_0</th><th>y_0</th><th>z_0</th><th>x_1</th><th>y_1</th><th>z_1</th><th>x_2</th><th>y_2</th><th>z_2</th><th>x_3</th><th>y_3</th><th>z_3</th><th>x_4</th><th>y_4</th><th>z_4</th><th>x_5</th><th>y_5</th><th>z_5</th></tr><tr><td>str</td><td>f64</td><td>f64</td><td>f64</td><td>f64</td><td>f64</td><td>bool</td><td>f64</td><td>bool</td><td>str</td><td>bool</td><td>bool</td><td>f64</td><td>f64</td><td>f64</td><td>f64</td><td>f64</td><td>f64</td><td>f64</td><td>f64</td><td>f64</td><td>f64</td><td>f64</td><td>f64</td><td>f64</td><td>f64</td><td>f64</td><td>f64</td><td>f64</td><td>f64</td></tr></thead><tbody><tr><td>&quot;00066be8e20318869c38c66be466631a_320&quot;</td><td>5.701526</td><td>1.538456</td><td>-2.165777</td><td>-139.0</td><td>0.0</td><td>false</td><td>0.25</td><td>true</td><td>&quot;drive&quot;</td><td>false</td><td>false</td><td>2.82959</td><td>0.032226</td><td>0.045187</td><td>6.231999</td><td>0.065895</td><td>0.107974</td><td>9.785009</td><td>0.124972</td><td>0.203649</td><td>13.485472</td><td>0.163448</td><td>0.302818</td><td>17.574227</td><td>0.174289</td><td>0.406331</td><td>21.951269</td><td>0.199503</td><td>0.485079</td></tr><tr><td>&quot;00066be8e20318869c38c66be466631a_420&quot;</td><td>11.176292</td><td>0.279881</td><td>-11.625697</td><td>-44.0</td><td>0.0</td><td>false</td><td>0.0</td><td>false</td><td>&quot;drive&quot;</td><td>false</td><td>true</td><td>4.970268</td><td>-0.007936</td><td>0.005028</td><td>10.350489</td><td>-0.032374</td><td>-0.020701</td><td>15.770054</td><td>0.084073</td><td>0.008645</td><td>21.132415</td><td>0.391343</td><td>0.036335</td><td>26.316489</td><td>0.843124</td><td>0.065</td><td>31.383814</td><td>1.42507</td><td>0.073083</td></tr><tr><td>&quot;00066be8e20318869c38c66be466631a_520&quot;</td><td>10.472548</td><td>0.231099</td><td>-2.985105</td><td>-132.0</td><td>0.0</td><td>false</td><td>0.18</td><td>true</td><td>&quot;drive&quot;</td><td>false</td><td>false</td><td>4.815701</td><td>-0.000813</td><td>0.017577</td><td>10.153522</td><td>-0.0278</td><td>0.026165</td><td>15.446539</td><td>-0.155987</td><td>0.040397</td><td>20.61816</td><td>-0.356932</td><td>0.058765</td><td>25.677387</td><td>-0.576985</td><td>0.102859</td><td>30.460033</td><td>-0.841894</td><td>0.152889</td></tr><tr><td>&quot;000fb056f97572d384bae4f5fc1e0f28_120&quot;</td><td>6.055565</td><td>-0.117775</td><td>7.632668</td><td>173.0</td><td>0.0</td><td>false</td><td>0.0</td><td>false</td><td>&quot;drive&quot;</td><td>false</td><td>false</td><td>2.812608</td><td>0.033731</td><td>0.0059</td><td>5.975378</td><td>0.137848</td><td>0.01621</td><td>9.186793</td><td>0.322997</td><td>0.031626</td><td>12.37311</td><td>0.603145</td><td>0.031858</td><td>15.703514</td><td>0.960717</td><td>0.043479</td><td>19.311182</td><td>1.374655</td><td>0.058754</td></tr><tr><td>&quot;000fb056f97572d384bae4f5fc1e0f28_20&quot;</td><td>3.316744</td><td>1.276733</td><td>-31.725477</td><td>-114.0</td><td>0.0</td><td>false</td><td>0.255</td><td>true</td><td>&quot;drive&quot;</td><td>false</td><td>false</td><td>1.55186</td><td>-0.041849</td><td>-0.008847</td><td>3.675162</td><td>-0.125189</td><td>-0.013725</td><td>6.113567</td><td>-0.239161</td><td>-0.012887</td><td>8.770783</td><td>-0.381813</td><td>-0.003898</td><td>11.619313</td><td>-0.554488</td><td>0.011393</td><td>14.657048</td><td>-0.7788</td><td>0.044243</td></tr><tr><td>&hellip;</td><td>&hellip;</td><td>&hellip;</td><td>&hellip;</td><td>&hellip;</td><td>&hellip;</td><td>&hellip;</td><td>&hellip;</td><td>&hellip;</td><td>&hellip;</td><td>&hellip;</td><td>&hellip;</td><td>&hellip;</td><td>&hellip;</td><td>&hellip;</td><td>&hellip;</td><td>&hellip;</td><td>&hellip;</td><td>&hellip;</td><td>&hellip;</td><td>&hellip;</td><td>&hellip;</td><td>&hellip;</td><td>&hellip;</td><td>&hellip;</td><td>&hellip;</td><td>&hellip;</td><td>&hellip;</td><td>&hellip;</td><td>&hellip;</td></tr><tr><td>&quot;fff88cca5f8a012427b96bdde66011e3_20&quot;</td><td>-0.0</td><td>-0.0</td><td>16.102747</td><td>-1.0</td><td>0.0</td><td>true</td><td>0.0</td><td>false</td><td>&quot;drive&quot;</td><td>false</td><td>true</td><td>0.00514</td><td>0.002648</td><td>-0.006207</td><td>0.013328</td><td>0.005834</td><td>-0.016368</td><td>0.019618</td><td>0.007763</td><td>-0.023074</td><td>0.028672</td><td>0.010737</td><td>-0.033795</td><td>0.0342</td><td>0.012502</td><td>-0.040583</td><td>0.043196</td><td>0.015644</td><td>-0.051309</td></tr><tr><td>&quot;fff88cca5f8a012427b96bdde66011e3_220&quot;</td><td>1.594968</td><td>0.350129</td><td>-5.791823</td><td>-97.0</td><td>0.0</td><td>false</td><td>0.0</td><td>false</td><td>&quot;drive&quot;</td><td>false</td><td>true</td><td>0.663311</td><td>-0.002493</td><td>-0.009528</td><td>1.516447</td><td>-0.004223</td><td>-0.020431</td><td>2.425366</td><td>-0.002958</td><td>-0.023108</td><td>3.319161</td><td>-0.012259</td><td>-0.027327</td><td>4.106655</td><td>-0.023314</td><td>-0.024449</td><td>4.708509</td><td>-0.027916</td><td>-0.026821</td></tr><tr><td>&quot;fff88cca5f8a012427b96bdde66011e3_320&quot;</td><td>-0.004207</td><td>-0.037833</td><td>-2.089301</td><td>0.0</td><td>0.0</td><td>true</td><td>0.0</td><td>false</td><td>&quot;drive&quot;</td><td>false</td><td>true</td><td>0.022788</td><td>0.000622</td><td>-0.006612</td><td>0.046445</td><td>0.001039</td><td>-0.017674</td><td>0.062182</td><td>0.000714</td><td>-0.024352</td><td>0.079601</td><td>0.000491</td><td>-0.034149</td><td>0.091362</td><td>-0.000041</td><td>-0.039632</td><td>0.10623</td><td>-0.001123</td><td>-0.04789</td></tr><tr><td>&quot;fff88cca5f8a012427b96bdde66011e3_420&quot;</td><td>-2.1624e-10</td><td>-1.9432e-9</td><td>-2.170106</td><td>1.0</td><td>0.0</td><td>true</td><td>0.0</td><td>false</td><td>&quot;drive&quot;</td><td>false</td><td>true</td><td>0.009293</td><td>-0.000725</td><td>-0.003357</td><td>0.022385</td><td>-0.002018</td><td>-0.008759</td><td>0.031795</td><td>-0.003121</td><td>-0.012351</td><td>0.044995</td><td>-0.004578</td><td>-0.017885</td><td>0.054023</td><td>-0.005685</td><td>-0.020612</td><td>0.067738</td><td>-0.008169</td><td>-0.026279</td></tr><tr><td>&quot;fff88cca5f8a012427b96bdde66011e3_520&quot;</td><td>-1.1102e-17</td><td>-9.9770e-17</td><td>-2.24445</td><td>1.0</td><td>0.0</td><td>true</td><td>0.0</td><td>false</td><td>&quot;drive&quot;</td><td>false</td><td>true</td><td>0.009021</td><td>-0.001694</td><td>-0.003041</td><td>0.021577</td><td>-0.003604</td><td>-0.006752</td><td>0.029756</td><td>-0.004978</td><td>-0.007805</td><td>0.041055</td><td>-0.007137</td><td>-0.009562</td><td>0.049354</td><td>-0.008518</td><td>-0.010334</td><td>0.060503</td><td>-0.010497</td><td>-0.011979</td></tr></tbody></table></div>"
      ],
      "text/plain": [
       "shape: (43_371, 30)\n",
       "┌───────────┬───────────┬───────────┬───────────┬───┬───────────┬───────────┬───────────┬──────────┐\n",
       "│ ID        ┆ vEgo      ┆ aEgo      ┆ steeringA ┆ … ┆ z_4       ┆ x_5       ┆ y_5       ┆ z_5      │\n",
       "│ ---       ┆ ---       ┆ ---       ┆ ngleDeg   ┆   ┆ ---       ┆ ---       ┆ ---       ┆ ---      │\n",
       "│ str       ┆ f64       ┆ f64       ┆ ---       ┆   ┆ f64       ┆ f64       ┆ f64       ┆ f64      │\n",
       "│           ┆           ┆           ┆ f64       ┆   ┆           ┆           ┆           ┆          │\n",
       "╞═══════════╪═══════════╪═══════════╪═══════════╪═══╪═══════════╪═══════════╪═══════════╪══════════╡\n",
       "│ 00066be8e ┆ 5.701526  ┆ 1.538456  ┆ -2.165777 ┆ … ┆ 0.406331  ┆ 21.951269 ┆ 0.199503  ┆ 0.485079 │\n",
       "│ 20318869c ┆           ┆           ┆           ┆   ┆           ┆           ┆           ┆          │\n",
       "│ 38c66be46 ┆           ┆           ┆           ┆   ┆           ┆           ┆           ┆          │\n",
       "│ 6631a_320 ┆           ┆           ┆           ┆   ┆           ┆           ┆           ┆          │\n",
       "│ 00066be8e ┆ 11.176292 ┆ 0.279881  ┆ -11.62569 ┆ … ┆ 0.065     ┆ 31.383814 ┆ 1.42507   ┆ 0.073083 │\n",
       "│ 20318869c ┆           ┆           ┆ 7         ┆   ┆           ┆           ┆           ┆          │\n",
       "│ 38c66be46 ┆           ┆           ┆           ┆   ┆           ┆           ┆           ┆          │\n",
       "│ 6631a_420 ┆           ┆           ┆           ┆   ┆           ┆           ┆           ┆          │\n",
       "│ 00066be8e ┆ 10.472548 ┆ 0.231099  ┆ -2.985105 ┆ … ┆ 0.102859  ┆ 30.460033 ┆ -0.841894 ┆ 0.152889 │\n",
       "│ 20318869c ┆           ┆           ┆           ┆   ┆           ┆           ┆           ┆          │\n",
       "│ 38c66be46 ┆           ┆           ┆           ┆   ┆           ┆           ┆           ┆          │\n",
       "│ 6631a_520 ┆           ┆           ┆           ┆   ┆           ┆           ┆           ┆          │\n",
       "│ 000fb056f ┆ 6.055565  ┆ -0.117775 ┆ 7.632668  ┆ … ┆ 0.043479  ┆ 19.311182 ┆ 1.374655  ┆ 0.058754 │\n",
       "│ 97572d384 ┆           ┆           ┆           ┆   ┆           ┆           ┆           ┆          │\n",
       "│ bae4f5fc1 ┆           ┆           ┆           ┆   ┆           ┆           ┆           ┆          │\n",
       "│ e0f28_120 ┆           ┆           ┆           ┆   ┆           ┆           ┆           ┆          │\n",
       "│ 000fb056f ┆ 3.316744  ┆ 1.276733  ┆ -31.72547 ┆ … ┆ 0.011393  ┆ 14.657048 ┆ -0.7788   ┆ 0.044243 │\n",
       "│ 97572d384 ┆           ┆           ┆ 7         ┆   ┆           ┆           ┆           ┆          │\n",
       "│ bae4f5fc1 ┆           ┆           ┆           ┆   ┆           ┆           ┆           ┆          │\n",
       "│ e0f28_20  ┆           ┆           ┆           ┆   ┆           ┆           ┆           ┆          │\n",
       "│ …         ┆ …         ┆ …         ┆ …         ┆ … ┆ …         ┆ …         ┆ …         ┆ …        │\n",
       "│ fff88cca5 ┆ -0.0      ┆ -0.0      ┆ 16.102747 ┆ … ┆ -0.040583 ┆ 0.043196  ┆ 0.015644  ┆ -0.05130 │\n",
       "│ f8a012427 ┆           ┆           ┆           ┆   ┆           ┆           ┆           ┆ 9        │\n",
       "│ b96bdde66 ┆           ┆           ┆           ┆   ┆           ┆           ┆           ┆          │\n",
       "│ 011e3_20  ┆           ┆           ┆           ┆   ┆           ┆           ┆           ┆          │\n",
       "│ fff88cca5 ┆ 1.594968  ┆ 0.350129  ┆ -5.791823 ┆ … ┆ -0.024449 ┆ 4.708509  ┆ -0.027916 ┆ -0.02682 │\n",
       "│ f8a012427 ┆           ┆           ┆           ┆   ┆           ┆           ┆           ┆ 1        │\n",
       "│ b96bdde66 ┆           ┆           ┆           ┆   ┆           ┆           ┆           ┆          │\n",
       "│ 011e3_220 ┆           ┆           ┆           ┆   ┆           ┆           ┆           ┆          │\n",
       "│ fff88cca5 ┆ -0.004207 ┆ -0.037833 ┆ -2.089301 ┆ … ┆ -0.039632 ┆ 0.10623   ┆ -0.001123 ┆ -0.04789 │\n",
       "│ f8a012427 ┆           ┆           ┆           ┆   ┆           ┆           ┆           ┆          │\n",
       "│ b96bdde66 ┆           ┆           ┆           ┆   ┆           ┆           ┆           ┆          │\n",
       "│ 011e3_320 ┆           ┆           ┆           ┆   ┆           ┆           ┆           ┆          │\n",
       "│ fff88cca5 ┆ -2.1624e- ┆ -1.9432e- ┆ -2.170106 ┆ … ┆ -0.020612 ┆ 0.067738  ┆ -0.008169 ┆ -0.02627 │\n",
       "│ f8a012427 ┆ 10        ┆ 9         ┆           ┆   ┆           ┆           ┆           ┆ 9        │\n",
       "│ b96bdde66 ┆           ┆           ┆           ┆   ┆           ┆           ┆           ┆          │\n",
       "│ 011e3_420 ┆           ┆           ┆           ┆   ┆           ┆           ┆           ┆          │\n",
       "│ fff88cca5 ┆ -1.1102e- ┆ -9.9770e- ┆ -2.24445  ┆ … ┆ -0.010334 ┆ 0.060503  ┆ -0.010497 ┆ -0.01197 │\n",
       "│ f8a012427 ┆ 17        ┆ 17        ┆           ┆   ┆           ┆           ┆           ┆ 9        │\n",
       "│ b96bdde66 ┆           ┆           ┆           ┆   ┆           ┆           ┆           ┆          │\n",
       "│ 011e3_520 ┆           ┆           ┆           ┆   ┆           ┆           ┆           ┆          │\n",
       "└───────────┴───────────┴───────────┴───────────┴───┴───────────┴───────────┴───────────┴──────────┘"
      ]
     },
     "execution_count": 11,
     "metadata": {},
     "output_type": "execute_result"
    }
   ],
   "source": [
    "train\n"
   ]
  },
  {
   "cell_type": "code",
   "execution_count": 7,
   "metadata": {},
   "outputs": [
    {
     "data": {
      "text/html": [
       "<div><style>\n",
       ".dataframe > thead > tr,\n",
       ".dataframe > tbody > tr {\n",
       "  text-align: right;\n",
       "  white-space: pre-wrap;\n",
       "}\n",
       "</style>\n",
       "<small>shape: (5, 30)</small><table border=\"1\" class=\"dataframe\"><thead><tr><th>ID</th><th>vEgo</th><th>aEgo</th><th>steeringAngleDeg</th><th>steeringTorque</th><th>brake</th><th>brakePressed</th><th>gas</th><th>gasPressed</th><th>gearShifter</th><th>leftBlinker</th><th>rightBlinker</th><th>x_0</th><th>y_0</th><th>z_0</th><th>x_1</th><th>y_1</th><th>z_1</th><th>x_2</th><th>y_2</th><th>z_2</th><th>x_3</th><th>y_3</th><th>z_3</th><th>x_4</th><th>y_4</th><th>z_4</th><th>x_5</th><th>y_5</th><th>z_5</th></tr><tr><td>str</td><td>f64</td><td>f64</td><td>f64</td><td>f64</td><td>f64</td><td>bool</td><td>f64</td><td>bool</td><td>str</td><td>bool</td><td>bool</td><td>f64</td><td>f64</td><td>f64</td><td>f64</td><td>f64</td><td>f64</td><td>f64</td><td>f64</td><td>f64</td><td>f64</td><td>f64</td><td>f64</td><td>f64</td><td>f64</td><td>f64</td><td>f64</td><td>f64</td><td>f64</td></tr></thead><tbody><tr><td>&quot;00066be8e20318869c38c66be466631a_320&quot;</td><td>5.701526</td><td>1.538456</td><td>-2.165777</td><td>-139.0</td><td>0.0</td><td>false</td><td>0.25</td><td>true</td><td>&quot;drive&quot;</td><td>false</td><td>false</td><td>2.82959</td><td>0.032226</td><td>0.045187</td><td>6.231999</td><td>0.065895</td><td>0.107974</td><td>9.785009</td><td>0.124972</td><td>0.203649</td><td>13.485472</td><td>0.163448</td><td>0.302818</td><td>17.574227</td><td>0.174289</td><td>0.406331</td><td>21.951269</td><td>0.199503</td><td>0.485079</td></tr><tr><td>&quot;00066be8e20318869c38c66be466631a_420&quot;</td><td>11.176292</td><td>0.279881</td><td>-11.625697</td><td>-44.0</td><td>0.0</td><td>false</td><td>0.0</td><td>false</td><td>&quot;drive&quot;</td><td>false</td><td>true</td><td>4.970268</td><td>-0.007936</td><td>0.005028</td><td>10.350489</td><td>-0.032374</td><td>-0.020701</td><td>15.770054</td><td>0.084073</td><td>0.008645</td><td>21.132415</td><td>0.391343</td><td>0.036335</td><td>26.316489</td><td>0.843124</td><td>0.065</td><td>31.383814</td><td>1.42507</td><td>0.073083</td></tr><tr><td>&quot;00066be8e20318869c38c66be466631a_520&quot;</td><td>10.472548</td><td>0.231099</td><td>-2.985105</td><td>-132.0</td><td>0.0</td><td>false</td><td>0.18</td><td>true</td><td>&quot;drive&quot;</td><td>false</td><td>false</td><td>4.815701</td><td>-0.000813</td><td>0.017577</td><td>10.153522</td><td>-0.0278</td><td>0.026165</td><td>15.446539</td><td>-0.155987</td><td>0.040397</td><td>20.61816</td><td>-0.356932</td><td>0.058765</td><td>25.677387</td><td>-0.576985</td><td>0.102859</td><td>30.460033</td><td>-0.841894</td><td>0.152889</td></tr><tr><td>&quot;000fb056f97572d384bae4f5fc1e0f28_120&quot;</td><td>6.055565</td><td>-0.117775</td><td>7.632668</td><td>173.0</td><td>0.0</td><td>false</td><td>0.0</td><td>false</td><td>&quot;drive&quot;</td><td>false</td><td>false</td><td>2.812608</td><td>0.033731</td><td>0.0059</td><td>5.975378</td><td>0.137848</td><td>0.01621</td><td>9.186793</td><td>0.322997</td><td>0.031626</td><td>12.37311</td><td>0.603145</td><td>0.031858</td><td>15.703514</td><td>0.960717</td><td>0.043479</td><td>19.311182</td><td>1.374655</td><td>0.058754</td></tr><tr><td>&quot;000fb056f97572d384bae4f5fc1e0f28_20&quot;</td><td>3.316744</td><td>1.276733</td><td>-31.725477</td><td>-114.0</td><td>0.0</td><td>false</td><td>0.255</td><td>true</td><td>&quot;drive&quot;</td><td>false</td><td>false</td><td>1.55186</td><td>-0.041849</td><td>-0.008847</td><td>3.675162</td><td>-0.125189</td><td>-0.013725</td><td>6.113567</td><td>-0.239161</td><td>-0.012887</td><td>8.770783</td><td>-0.381813</td><td>-0.003898</td><td>11.619313</td><td>-0.554488</td><td>0.011393</td><td>14.657048</td><td>-0.7788</td><td>0.044243</td></tr></tbody></table></div>"
      ],
      "text/plain": [
       "shape: (5, 30)\n",
       "┌────────────┬───────────┬───────────┬───────────┬───┬──────────┬───────────┬───────────┬──────────┐\n",
       "│ ID         ┆ vEgo      ┆ aEgo      ┆ steeringA ┆ … ┆ z_4      ┆ x_5       ┆ y_5       ┆ z_5      │\n",
       "│ ---        ┆ ---       ┆ ---       ┆ ngleDeg   ┆   ┆ ---      ┆ ---       ┆ ---       ┆ ---      │\n",
       "│ str        ┆ f64       ┆ f64       ┆ ---       ┆   ┆ f64      ┆ f64       ┆ f64       ┆ f64      │\n",
       "│            ┆           ┆           ┆ f64       ┆   ┆          ┆           ┆           ┆          │\n",
       "╞════════════╪═══════════╪═══════════╪═══════════╪═══╪══════════╪═══════════╪═══════════╪══════════╡\n",
       "│ 00066be8e2 ┆ 5.701526  ┆ 1.538456  ┆ -2.165777 ┆ … ┆ 0.406331 ┆ 21.951269 ┆ 0.199503  ┆ 0.485079 │\n",
       "│ 0318869c38 ┆           ┆           ┆           ┆   ┆          ┆           ┆           ┆          │\n",
       "│ c66be46663 ┆           ┆           ┆           ┆   ┆          ┆           ┆           ┆          │\n",
       "│ 1a_320     ┆           ┆           ┆           ┆   ┆          ┆           ┆           ┆          │\n",
       "│ 00066be8e2 ┆ 11.176292 ┆ 0.279881  ┆ -11.62569 ┆ … ┆ 0.065    ┆ 31.383814 ┆ 1.42507   ┆ 0.073083 │\n",
       "│ 0318869c38 ┆           ┆           ┆ 7         ┆   ┆          ┆           ┆           ┆          │\n",
       "│ c66be46663 ┆           ┆           ┆           ┆   ┆          ┆           ┆           ┆          │\n",
       "│ 1a_420     ┆           ┆           ┆           ┆   ┆          ┆           ┆           ┆          │\n",
       "│ 00066be8e2 ┆ 10.472548 ┆ 0.231099  ┆ -2.985105 ┆ … ┆ 0.102859 ┆ 30.460033 ┆ -0.841894 ┆ 0.152889 │\n",
       "│ 0318869c38 ┆           ┆           ┆           ┆   ┆          ┆           ┆           ┆          │\n",
       "│ c66be46663 ┆           ┆           ┆           ┆   ┆          ┆           ┆           ┆          │\n",
       "│ 1a_520     ┆           ┆           ┆           ┆   ┆          ┆           ┆           ┆          │\n",
       "│ 000fb056f9 ┆ 6.055565  ┆ -0.117775 ┆ 7.632668  ┆ … ┆ 0.043479 ┆ 19.311182 ┆ 1.374655  ┆ 0.058754 │\n",
       "│ 7572d384ba ┆           ┆           ┆           ┆   ┆          ┆           ┆           ┆          │\n",
       "│ e4f5fc1e0f ┆           ┆           ┆           ┆   ┆          ┆           ┆           ┆          │\n",
       "│ 28_120     ┆           ┆           ┆           ┆   ┆          ┆           ┆           ┆          │\n",
       "│ 000fb056f9 ┆ 3.316744  ┆ 1.276733  ┆ -31.72547 ┆ … ┆ 0.011393 ┆ 14.657048 ┆ -0.7788   ┆ 0.044243 │\n",
       "│ 7572d384ba ┆           ┆           ┆ 7         ┆   ┆          ┆           ┆           ┆          │\n",
       "│ e4f5fc1e0f ┆           ┆           ┆           ┆   ┆          ┆           ┆           ┆          │\n",
       "│ 28_20      ┆           ┆           ┆           ┆   ┆          ┆           ┆           ┆          │\n",
       "└────────────┴───────────┴───────────┴───────────┴───┴──────────┴───────────┴───────────┴──────────┘"
      ]
     },
     "execution_count": 7,
     "metadata": {},
     "output_type": "execute_result"
    }
   ],
   "source": [
    "train.head()\n"
   ]
  },
  {
   "cell_type": "code",
   "execution_count": 9,
   "metadata": {},
   "outputs": [
    {
     "data": {
      "text/plain": [
       "(43371, 30)"
      ]
     },
     "execution_count": 9,
     "metadata": {},
     "output_type": "execute_result"
    }
   ],
   "source": [
    "train.shape\n"
   ]
  },
  {
   "cell_type": "code",
   "execution_count": 4,
   "metadata": {},
   "outputs": [
    {
     "data": {
      "text/html": [
       "<div><style>\n",
       ".dataframe > thead > tr,\n",
       ".dataframe > tbody > tr {\n",
       "  text-align: right;\n",
       "  white-space: pre-wrap;\n",
       "}\n",
       "</style>\n",
       "<small>shape: (9, 31)</small><table border=\"1\" class=\"dataframe\"><thead><tr><th>statistic</th><th>ID</th><th>vEgo</th><th>aEgo</th><th>steeringAngleDeg</th><th>steeringTorque</th><th>brake</th><th>brakePressed</th><th>gas</th><th>gasPressed</th><th>gearShifter</th><th>leftBlinker</th><th>rightBlinker</th><th>x_0</th><th>y_0</th><th>z_0</th><th>x_1</th><th>y_1</th><th>z_1</th><th>x_2</th><th>y_2</th><th>z_2</th><th>x_3</th><th>y_3</th><th>z_3</th><th>x_4</th><th>y_4</th><th>z_4</th><th>x_5</th><th>y_5</th><th>z_5</th></tr><tr><td>str</td><td>str</td><td>f64</td><td>f64</td><td>f64</td><td>f64</td><td>f64</td><td>f64</td><td>f64</td><td>f64</td><td>str</td><td>f64</td><td>f64</td><td>f64</td><td>f64</td><td>f64</td><td>f64</td><td>f64</td><td>f64</td><td>f64</td><td>f64</td><td>f64</td><td>f64</td><td>f64</td><td>f64</td><td>f64</td><td>f64</td><td>f64</td><td>f64</td><td>f64</td><td>f64</td></tr></thead><tbody><tr><td>&quot;count&quot;</td><td>&quot;43371&quot;</td><td>43371.0</td><td>43371.0</td><td>43371.0</td><td>43371.0</td><td>43371.0</td><td>43371.0</td><td>43371.0</td><td>43371.0</td><td>&quot;43371&quot;</td><td>43371.0</td><td>43371.0</td><td>43371.0</td><td>43371.0</td><td>43371.0</td><td>43371.0</td><td>43371.0</td><td>43371.0</td><td>43371.0</td><td>43371.0</td><td>43371.0</td><td>43371.0</td><td>43371.0</td><td>43371.0</td><td>43371.0</td><td>43371.0</td><td>43371.0</td><td>43371.0</td><td>43371.0</td><td>43371.0</td></tr><tr><td>&quot;null_count&quot;</td><td>&quot;0&quot;</td><td>0.0</td><td>0.0</td><td>0.0</td><td>0.0</td><td>0.0</td><td>0.0</td><td>0.0</td><td>0.0</td><td>&quot;0&quot;</td><td>0.0</td><td>0.0</td><td>0.0</td><td>0.0</td><td>0.0</td><td>0.0</td><td>0.0</td><td>0.0</td><td>0.0</td><td>0.0</td><td>0.0</td><td>0.0</td><td>0.0</td><td>0.0</td><td>0.0</td><td>0.0</td><td>0.0</td><td>0.0</td><td>0.0</td><td>0.0</td></tr><tr><td>&quot;mean&quot;</td><td>null</td><td>9.172176</td><td>-0.015654</td><td>-2.065173</td><td>-19.009546</td><td>0.0</td><td>0.307602</td><td>0.084003</td><td>0.483595</td><td>null</td><td>0.077955</td><td>0.102718</td><td>4.122444</td><td>0.001949</td><td>0.001247</td><td>8.694386</td><td>0.004477</td><td>0.002618</td><td>13.255113</td><td>0.006758</td><td>0.003981</td><td>17.80058</td><td>0.009001</td><td>0.005223</td><td>22.330185</td><td>0.011159</td><td>0.006012</td><td>26.842607</td><td>0.013564</td><td>0.006648</td></tr><tr><td>&quot;std&quot;</td><td>null</td><td>7.22692</td><td>0.632402</td><td>65.548822</td><td>110.799971</td><td>0.0</td><td>null</td><td>0.109837</td><td>null</td><td>null</td><td>null</td><td>null</td><td>3.266717</td><td>0.116866</td><td>0.040745</td><td>6.894355</td><td>0.327714</td><td>0.083388</td><td>10.52081</td><td>0.63765</td><td>0.127081</td><td>14.147079</td><td>1.041827</td><td>0.172892</td><td>17.772877</td><td>1.534514</td><td>0.220837</td><td>21.398114</td><td>2.111089</td><td>0.271671</td></tr><tr><td>&quot;min&quot;</td><td>&quot;00066be8e20318869c38c66be46663…</td><td>-0.161919</td><td>-4.936206</td><td>-481.394287</td><td>-700.0</td><td>0.0</td><td>0.0</td><td>0.0</td><td>0.0</td><td>&quot;drive&quot;</td><td>0.0</td><td>0.0</td><td>-1.732154</td><td>-2.534138</td><td>-0.996548</td><td>-3.111055</td><td>-4.09071</td><td>-1.756772</td><td>-4.454273</td><td>-5.666513</td><td>-2.341347</td><td>-5.678676</td><td>-8.864628</td><td>-3.058673</td><td>-6.799718</td><td>-12.459174</td><td>-3.871224</td><td>-7.826888</td><td>-16.384152</td><td>-4.669255</td></tr><tr><td>&quot;25%&quot;</td><td>null</td><td>2.578666</td><td>-0.236368</td><td>-3.461754</td><td>-94.0</td><td>0.0</td><td>null</td><td>0.0</td><td>null</td><td>null</td><td>null</td><td>null</td><td>1.116531</td><td>-0.026463</td><td>-0.017625</td><td>2.334773</td><td>-0.066491</td><td>-0.036768</td><td>3.548125</td><td>-0.119848</td><td>-0.057169</td><td>4.729803</td><td>-0.182733</td><td>-0.079274</td><td>5.916052</td><td>-0.256286</td><td>-0.101681</td><td>7.034703</td><td>-0.337794</td><td>-0.125354</td></tr><tr><td>&quot;50%&quot;</td><td>null</td><td>8.51879</td><td>-1.8348e-15</td><td>-0.356471</td><td>-13.0</td><td>0.0</td><td>null</td><td>0.0</td><td>null</td><td>null</td><td>null</td><td>null</td><td>3.843337</td><td>0.001088</td><td>0.001111</td><td>8.0828</td><td>0.002699</td><td>0.002288</td><td>12.330558</td><td>0.003819</td><td>0.003061</td><td>16.567319</td><td>0.005099</td><td>0.004306</td><td>20.76318</td><td>0.00616</td><td>0.005289</td><td>24.947074</td><td>0.007994</td><td>0.005778</td></tr><tr><td>&quot;75%&quot;</td><td>null</td><td>14.286816</td><td>0.222298</td><td>2.626907</td><td>51.0</td><td>0.0</td><td>null</td><td>0.165</td><td>null</td><td>null</td><td>null</td><td>null</td><td>6.42812</td><td>0.030664</td><td>0.019591</td><td>13.569839</td><td>0.077847</td><td>0.041457</td><td>20.699952</td><td>0.136715</td><td>0.06429</td><td>27.834049</td><td>0.206617</td><td>0.087344</td><td>34.947244</td><td>0.286427</td><td>0.111254</td><td>42.027569</td><td>0.372728</td><td>0.134984</td></tr><tr><td>&quot;max&quot;</td><td>&quot;fff88cca5f8a012427b96bdde66011…</td><td>27.551262</td><td>3.14007</td><td>484.691711</td><td>700.0</td><td>0.0</td><td>1.0</td><td>0.915</td><td>1.0</td><td>&quot;reverse&quot;</td><td>1.0</td><td>1.0</td><td>12.392587</td><td>3.459556</td><td>1.447929</td><td>26.160461</td><td>3.220476</td><td>2.748179</td><td>39.855555</td><td>5.073225</td><td>3.920498</td><td>53.597005</td><td>8.201288</td><td>4.773078</td><td>67.242715</td><td>12.084923</td><td>5.743042</td><td>80.9889</td><td>17.151381</td><td>6.627251</td></tr></tbody></table></div>"
      ],
      "text/plain": [
       "shape: (9, 31)\n",
       "┌───────────┬───────────┬───────────┬───────────┬───┬───────────┬───────────┬───────────┬──────────┐\n",
       "│ statistic ┆ ID        ┆ vEgo      ┆ aEgo      ┆ … ┆ z_4       ┆ x_5       ┆ y_5       ┆ z_5      │\n",
       "│ ---       ┆ ---       ┆ ---       ┆ ---       ┆   ┆ ---       ┆ ---       ┆ ---       ┆ ---      │\n",
       "│ str       ┆ str       ┆ f64       ┆ f64       ┆   ┆ f64       ┆ f64       ┆ f64       ┆ f64      │\n",
       "╞═══════════╪═══════════╪═══════════╪═══════════╪═══╪═══════════╪═══════════╪═══════════╪══════════╡\n",
       "│ count     ┆ 43371     ┆ 43371.0   ┆ 43371.0   ┆ … ┆ 43371.0   ┆ 43371.0   ┆ 43371.0   ┆ 43371.0  │\n",
       "│ null_coun ┆ 0         ┆ 0.0       ┆ 0.0       ┆ … ┆ 0.0       ┆ 0.0       ┆ 0.0       ┆ 0.0      │\n",
       "│ t         ┆           ┆           ┆           ┆   ┆           ┆           ┆           ┆          │\n",
       "│ mean      ┆ null      ┆ 9.172176  ┆ -0.015654 ┆ … ┆ 0.006012  ┆ 26.842607 ┆ 0.013564  ┆ 0.006648 │\n",
       "│ std       ┆ null      ┆ 7.22692   ┆ 0.632402  ┆ … ┆ 0.220837  ┆ 21.398114 ┆ 2.111089  ┆ 0.271671 │\n",
       "│ min       ┆ 00066be8e ┆ -0.161919 ┆ -4.936206 ┆ … ┆ -3.871224 ┆ -7.826888 ┆ -16.38415 ┆ -4.66925 │\n",
       "│           ┆ 20318869c ┆           ┆           ┆   ┆           ┆           ┆ 2         ┆ 5        │\n",
       "│           ┆ 38c66be46 ┆           ┆           ┆   ┆           ┆           ┆           ┆          │\n",
       "│           ┆ 663…      ┆           ┆           ┆   ┆           ┆           ┆           ┆          │\n",
       "│ 25%       ┆ null      ┆ 2.578666  ┆ -0.236368 ┆ … ┆ -0.101681 ┆ 7.034703  ┆ -0.337794 ┆ -0.12535 │\n",
       "│           ┆           ┆           ┆           ┆   ┆           ┆           ┆           ┆ 4        │\n",
       "│ 50%       ┆ null      ┆ 8.51879   ┆ -1.8348e- ┆ … ┆ 0.005289  ┆ 24.947074 ┆ 0.007994  ┆ 0.005778 │\n",
       "│           ┆           ┆           ┆ 15        ┆   ┆           ┆           ┆           ┆          │\n",
       "│ 75%       ┆ null      ┆ 14.286816 ┆ 0.222298  ┆ … ┆ 0.111254  ┆ 42.027569 ┆ 0.372728  ┆ 0.134984 │\n",
       "│ max       ┆ fff88cca5 ┆ 27.551262 ┆ 3.14007   ┆ … ┆ 5.743042  ┆ 80.9889   ┆ 17.151381 ┆ 6.627251 │\n",
       "│           ┆ f8a012427 ┆           ┆           ┆   ┆           ┆           ┆           ┆          │\n",
       "│           ┆ b96bdde66 ┆           ┆           ┆   ┆           ┆           ┆           ┆          │\n",
       "│           ┆ 011…      ┆           ┆           ┆   ┆           ┆           ┆           ┆          │\n",
       "└───────────┴───────────┴───────────┴───────────┴───┴───────────┴───────────┴───────────┴──────────┘"
      ]
     },
     "execution_count": 4,
     "metadata": {},
     "output_type": "execute_result"
    }
   ],
   "source": [
    "train.describe()\n"
   ]
  },
  {
   "cell_type": "code",
   "execution_count": 8,
   "metadata": {},
   "outputs": [
    {
     "data": {
      "text/html": [
       "<div><style>\n",
       ".dataframe > thead > tr,\n",
       ".dataframe > tbody > tr {\n",
       "  text-align: right;\n",
       "  white-space: pre-wrap;\n",
       "}\n",
       "</style>\n",
       "<small>shape: (1, 30)</small><table border=\"1\" class=\"dataframe\"><thead><tr><th>ID</th><th>vEgo</th><th>aEgo</th><th>steeringAngleDeg</th><th>steeringTorque</th><th>brake</th><th>brakePressed</th><th>gas</th><th>gasPressed</th><th>gearShifter</th><th>leftBlinker</th><th>rightBlinker</th><th>x_0</th><th>y_0</th><th>z_0</th><th>x_1</th><th>y_1</th><th>z_1</th><th>x_2</th><th>y_2</th><th>z_2</th><th>x_3</th><th>y_3</th><th>z_3</th><th>x_4</th><th>y_4</th><th>z_4</th><th>x_5</th><th>y_5</th><th>z_5</th></tr><tr><td>u32</td><td>u32</td><td>u32</td><td>u32</td><td>u32</td><td>u32</td><td>u32</td><td>u32</td><td>u32</td><td>u32</td><td>u32</td><td>u32</td><td>u32</td><td>u32</td><td>u32</td><td>u32</td><td>u32</td><td>u32</td><td>u32</td><td>u32</td><td>u32</td><td>u32</td><td>u32</td><td>u32</td><td>u32</td><td>u32</td><td>u32</td><td>u32</td><td>u32</td><td>u32</td></tr></thead><tbody><tr><td>43371</td><td>42183</td><td>42207</td><td>43313</td><td>770</td><td>1</td><td>2</td><td>134</td><td>2</td><td>4</td><td>2</td><td>2</td><td>43371</td><td>43371</td><td>43371</td><td>43371</td><td>43371</td><td>43371</td><td>43371</td><td>43371</td><td>43371</td><td>43371</td><td>43371</td><td>43371</td><td>43371</td><td>43371</td><td>43371</td><td>43371</td><td>43371</td><td>43371</td></tr></tbody></table></div>"
      ],
      "text/plain": [
       "shape: (1, 30)\n",
       "┌───────┬───────┬───────┬──────────────────┬───┬───────┬───────┬───────┬───────┐\n",
       "│ ID    ┆ vEgo  ┆ aEgo  ┆ steeringAngleDeg ┆ … ┆ z_4   ┆ x_5   ┆ y_5   ┆ z_5   │\n",
       "│ ---   ┆ ---   ┆ ---   ┆ ---              ┆   ┆ ---   ┆ ---   ┆ ---   ┆ ---   │\n",
       "│ u32   ┆ u32   ┆ u32   ┆ u32              ┆   ┆ u32   ┆ u32   ┆ u32   ┆ u32   │\n",
       "╞═══════╪═══════╪═══════╪══════════════════╪═══╪═══════╪═══════╪═══════╪═══════╡\n",
       "│ 43371 ┆ 42183 ┆ 42207 ┆ 43313            ┆ … ┆ 43371 ┆ 43371 ┆ 43371 ┆ 43371 │\n",
       "└───────┴───────┴───────┴──────────────────┴───┴───────┴───────┴───────┴───────┘"
      ]
     },
     "execution_count": 8,
     "metadata": {},
     "output_type": "execute_result"
    }
   ],
   "source": [
    "train.select(pl.all().n_unique())\n"
   ]
  },
  {
   "cell_type": "code",
   "execution_count": 10,
   "metadata": {},
   "outputs": [
    {
     "data": {
      "text/html": [
       "<div><style>\n",
       ".dataframe > thead > tr,\n",
       ".dataframe > tbody > tr {\n",
       "  text-align: right;\n",
       "  white-space: pre-wrap;\n",
       "}\n",
       "</style>\n",
       "<small>shape: (5, 12)</small><table border=\"1\" class=\"dataframe\"><thead><tr><th>ID</th><th>vEgo</th><th>aEgo</th><th>steeringAngleDeg</th><th>steeringTorque</th><th>brake</th><th>brakePressed</th><th>gas</th><th>gasPressed</th><th>gearShifter</th><th>leftBlinker</th><th>rightBlinker</th></tr><tr><td>str</td><td>f64</td><td>f64</td><td>f64</td><td>f64</td><td>f64</td><td>bool</td><td>f64</td><td>bool</td><td>str</td><td>bool</td><td>bool</td></tr></thead><tbody><tr><td>&quot;012baccc145d400c896cb82065a93d42_120&quot;</td><td>3.374273</td><td>-0.01936</td><td>-34.008415</td><td>17.0</td><td>0.0</td><td>false</td><td>0.0</td><td>false</td><td>&quot;drive&quot;</td><td>false</td><td>false</td></tr><tr><td>&quot;012baccc145d400c896cb82065a93d42_220&quot;</td><td>2.441048</td><td>-0.022754</td><td>307.860077</td><td>295.0</td><td>0.0</td><td>true</td><td>0.0</td><td>false</td><td>&quot;drive&quot;</td><td>false</td><td>false</td></tr><tr><td>&quot;012baccc145d400c896cb82065a93d42_320&quot;</td><td>3.604152</td><td>-0.286239</td><td>10.774388</td><td>-110.0</td><td>0.0</td><td>true</td><td>0.0</td><td>false</td><td>&quot;drive&quot;</td><td>false</td><td>false</td></tr><tr><td>&quot;012baccc145d400c896cb82065a93d42_420&quot;</td><td>2.048902</td><td>-0.537628</td><td>61.045235</td><td>189.0</td><td>0.0</td><td>true</td><td>0.0</td><td>false</td><td>&quot;drive&quot;</td><td>true</td><td>false</td></tr><tr><td>&quot;01d738e799d260a10f6324f78023b38f_120&quot;</td><td>2.201528</td><td>-1.8986</td><td>5.740093</td><td>-41.0</td><td>0.0</td><td>true</td><td>0.0</td><td>false</td><td>&quot;drive&quot;</td><td>false</td><td>false</td></tr></tbody></table></div>"
      ],
      "text/plain": [
       "shape: (5, 12)\n",
       "┌───────────┬──────────┬───────────┬───────────┬───┬───────────┬───────────┬───────────┬───────────┐\n",
       "│ ID        ┆ vEgo     ┆ aEgo      ┆ steeringA ┆ … ┆ gasPresse ┆ gearShift ┆ leftBlink ┆ rightBlin │\n",
       "│ ---       ┆ ---      ┆ ---       ┆ ngleDeg   ┆   ┆ d         ┆ er        ┆ er        ┆ ker       │\n",
       "│ str       ┆ f64      ┆ f64       ┆ ---       ┆   ┆ ---       ┆ ---       ┆ ---       ┆ ---       │\n",
       "│           ┆          ┆           ┆ f64       ┆   ┆ bool      ┆ str       ┆ bool      ┆ bool      │\n",
       "╞═══════════╪══════════╪═══════════╪═══════════╪═══╪═══════════╪═══════════╪═══════════╪═══════════╡\n",
       "│ 012baccc1 ┆ 3.374273 ┆ -0.01936  ┆ -34.00841 ┆ … ┆ false     ┆ drive     ┆ false     ┆ false     │\n",
       "│ 45d400c89 ┆          ┆           ┆ 5         ┆   ┆           ┆           ┆           ┆           │\n",
       "│ 6cb82065a ┆          ┆           ┆           ┆   ┆           ┆           ┆           ┆           │\n",
       "│ 93d42_120 ┆          ┆           ┆           ┆   ┆           ┆           ┆           ┆           │\n",
       "│ 012baccc1 ┆ 2.441048 ┆ -0.022754 ┆ 307.86007 ┆ … ┆ false     ┆ drive     ┆ false     ┆ false     │\n",
       "│ 45d400c89 ┆          ┆           ┆ 7         ┆   ┆           ┆           ┆           ┆           │\n",
       "│ 6cb82065a ┆          ┆           ┆           ┆   ┆           ┆           ┆           ┆           │\n",
       "│ 93d42_220 ┆          ┆           ┆           ┆   ┆           ┆           ┆           ┆           │\n",
       "│ 012baccc1 ┆ 3.604152 ┆ -0.286239 ┆ 10.774388 ┆ … ┆ false     ┆ drive     ┆ false     ┆ false     │\n",
       "│ 45d400c89 ┆          ┆           ┆           ┆   ┆           ┆           ┆           ┆           │\n",
       "│ 6cb82065a ┆          ┆           ┆           ┆   ┆           ┆           ┆           ┆           │\n",
       "│ 93d42_320 ┆          ┆           ┆           ┆   ┆           ┆           ┆           ┆           │\n",
       "│ 012baccc1 ┆ 2.048902 ┆ -0.537628 ┆ 61.045235 ┆ … ┆ false     ┆ drive     ┆ true      ┆ false     │\n",
       "│ 45d400c89 ┆          ┆           ┆           ┆   ┆           ┆           ┆           ┆           │\n",
       "│ 6cb82065a ┆          ┆           ┆           ┆   ┆           ┆           ┆           ┆           │\n",
       "│ 93d42_420 ┆          ┆           ┆           ┆   ┆           ┆           ┆           ┆           │\n",
       "│ 01d738e79 ┆ 2.201528 ┆ -1.8986   ┆ 5.740093  ┆ … ┆ false     ┆ drive     ┆ false     ┆ false     │\n",
       "│ 9d260a10f ┆          ┆           ┆           ┆   ┆           ┆           ┆           ┆           │\n",
       "│ 6324f7802 ┆          ┆           ┆           ┆   ┆           ┆           ┆           ┆           │\n",
       "│ 3b38f_120 ┆          ┆           ┆           ┆   ┆           ┆           ┆           ┆           │\n",
       "└───────────┴──────────┴───────────┴───────────┴───┴───────────┴───────────┴───────────┴───────────┘"
      ]
     },
     "execution_count": 10,
     "metadata": {},
     "output_type": "execute_result"
    }
   ],
   "source": [
    "test.head()\n"
   ]
  },
  {
   "cell_type": "code",
   "execution_count": 29,
   "metadata": {},
   "outputs": [
    {
     "data": {
      "image/png": "[encoded data removed]",
      "text/plain": [
       "<Figure size 640x480 with 1 Axes>"
      ]
     },
     "metadata": {},
     "output_type": "display_data"
    }
   ],
   "source": [
    "# 重複があるかベン図で確認\n",
    "\n",
    "train_id_list = (\n",
    "    train.select(pl.col(\"ID\").str.split(\"_\").list.get(0).unique(maintain_order=True).alias(\"ID_split\"))\n",
    "    .to_series()\n",
    "    .to_list()\n",
    ")\n",
    "test_id_list = (\n",
    "    test.select(pl.col(\"ID\").str.split(\"_\").list.get(0).unique(maintain_order=True).alias(\"ID_split\"))\n",
    "    .to_series()\n",
    "    .to_list()\n",
    ")\n",
    "\n",
    "# 重複があるかベン図で確認\n",
    "\n",
    "venn2([set(train_id_list), set(test_id_list)]);\n",
    "\n",
    "# 同じsceneはなさそう\n"
   ]
  },
  {
   "cell_type": "code",
   "execution_count": 31,
   "metadata": {},
   "outputs": [
    {
     "data": {
      "text/html": [
       "<div><style>\n",
       ".dataframe > thead > tr,\n",
       ".dataframe > tbody > tr {\n",
       "  text-align: right;\n",
       "  white-space: pre-wrap;\n",
       "}\n",
       "</style>\n",
       "<small>shape: (5, 31)</small><table border=\"1\" class=\"dataframe\"><thead><tr><th>ID</th><th>vEgo</th><th>aEgo</th><th>steeringAngleDeg</th><th>steeringTorque</th><th>brake</th><th>brakePressed</th><th>gas</th><th>gasPressed</th><th>gearShifter</th><th>leftBlinker</th><th>rightBlinker</th><th>x_0</th><th>y_0</th><th>z_0</th><th>x_1</th><th>y_1</th><th>z_1</th><th>x_2</th><th>y_2</th><th>z_2</th><th>x_3</th><th>y_3</th><th>z_3</th><th>x_4</th><th>y_4</th><th>z_4</th><th>x_5</th><th>y_5</th><th>z_5</th><th>scene</th></tr><tr><td>str</td><td>f64</td><td>f64</td><td>f64</td><td>f64</td><td>f64</td><td>bool</td><td>f64</td><td>bool</td><td>str</td><td>bool</td><td>bool</td><td>f64</td><td>f64</td><td>f64</td><td>f64</td><td>f64</td><td>f64</td><td>f64</td><td>f64</td><td>f64</td><td>f64</td><td>f64</td><td>f64</td><td>f64</td><td>f64</td><td>f64</td><td>f64</td><td>f64</td><td>f64</td><td>str</td></tr></thead><tbody><tr><td>&quot;00066be8e20318869c38c66be466631a_320&quot;</td><td>5.701526</td><td>1.538456</td><td>-2.165777</td><td>-139.0</td><td>0.0</td><td>false</td><td>0.25</td><td>true</td><td>&quot;drive&quot;</td><td>false</td><td>false</td><td>2.82959</td><td>0.032226</td><td>0.045187</td><td>6.231999</td><td>0.065895</td><td>0.107974</td><td>9.785009</td><td>0.124972</td><td>0.203649</td><td>13.485472</td><td>0.163448</td><td>0.302818</td><td>17.574227</td><td>0.174289</td><td>0.406331</td><td>21.951269</td><td>0.199503</td><td>0.485079</td><td>&quot;00066be8e20318869c38c66be466631a&quot;</td></tr><tr><td>&quot;00066be8e20318869c38c66be466631a_420&quot;</td><td>11.176292</td><td>0.279881</td><td>-11.625697</td><td>-44.0</td><td>0.0</td><td>false</td><td>0.0</td><td>false</td><td>&quot;drive&quot;</td><td>false</td><td>true</td><td>4.970268</td><td>-0.007936</td><td>0.005028</td><td>10.350489</td><td>-0.032374</td><td>-0.020701</td><td>15.770054</td><td>0.084073</td><td>0.008645</td><td>21.132415</td><td>0.391343</td><td>0.036335</td><td>26.316489</td><td>0.843124</td><td>0.065</td><td>31.383814</td><td>1.42507</td><td>0.073083</td><td>&quot;00066be8e20318869c38c66be466631a&quot;</td></tr><tr><td>&quot;00066be8e20318869c38c66be466631a_520&quot;</td><td>10.472548</td><td>0.231099</td><td>-2.985105</td><td>-132.0</td><td>0.0</td><td>false</td><td>0.18</td><td>true</td><td>&quot;drive&quot;</td><td>false</td><td>false</td><td>4.815701</td><td>-0.000813</td><td>0.017577</td><td>10.153522</td><td>-0.0278</td><td>0.026165</td><td>15.446539</td><td>-0.155987</td><td>0.040397</td><td>20.61816</td><td>-0.356932</td><td>0.058765</td><td>25.677387</td><td>-0.576985</td><td>0.102859</td><td>30.460033</td><td>-0.841894</td><td>0.152889</td><td>&quot;00066be8e20318869c38c66be466631a&quot;</td></tr><tr><td>&quot;000fb056f97572d384bae4f5fc1e0f28_120&quot;</td><td>6.055565</td><td>-0.117775</td><td>7.632668</td><td>173.0</td><td>0.0</td><td>false</td><td>0.0</td><td>false</td><td>&quot;drive&quot;</td><td>false</td><td>false</td><td>2.812608</td><td>0.033731</td><td>0.0059</td><td>5.975378</td><td>0.137848</td><td>0.01621</td><td>9.186793</td><td>0.322997</td><td>0.031626</td><td>12.37311</td><td>0.603145</td><td>0.031858</td><td>15.703514</td><td>0.960717</td><td>0.043479</td><td>19.311182</td><td>1.374655</td><td>0.058754</td><td>&quot;000fb056f97572d384bae4f5fc1e0f28&quot;</td></tr><tr><td>&quot;000fb056f97572d384bae4f5fc1e0f28_20&quot;</td><td>3.316744</td><td>1.276733</td><td>-31.725477</td><td>-114.0</td><td>0.0</td><td>false</td><td>0.255</td><td>true</td><td>&quot;drive&quot;</td><td>false</td><td>false</td><td>1.55186</td><td>-0.041849</td><td>-0.008847</td><td>3.675162</td><td>-0.125189</td><td>-0.013725</td><td>6.113567</td><td>-0.239161</td><td>-0.012887</td><td>8.770783</td><td>-0.381813</td><td>-0.003898</td><td>11.619313</td><td>-0.554488</td><td>0.011393</td><td>14.657048</td><td>-0.7788</td><td>0.044243</td><td>&quot;000fb056f97572d384bae4f5fc1e0f28&quot;</td></tr></tbody></table></div>"
      ],
      "text/plain": [
       "shape: (5, 31)\n",
       "┌───────────┬───────────┬───────────┬───────────┬───┬───────────┬───────────┬──────────┬───────────┐\n",
       "│ ID        ┆ vEgo      ┆ aEgo      ┆ steeringA ┆ … ┆ x_5       ┆ y_5       ┆ z_5      ┆ scene     │\n",
       "│ ---       ┆ ---       ┆ ---       ┆ ngleDeg   ┆   ┆ ---       ┆ ---       ┆ ---      ┆ ---       │\n",
       "│ str       ┆ f64       ┆ f64       ┆ ---       ┆   ┆ f64       ┆ f64       ┆ f64      ┆ str       │\n",
       "│           ┆           ┆           ┆ f64       ┆   ┆           ┆           ┆          ┆           │\n",
       "╞═══════════╪═══════════╪═══════════╪═══════════╪═══╪═══════════╪═══════════╪══════════╪═══════════╡\n",
       "│ 00066be8e ┆ 5.701526  ┆ 1.538456  ┆ -2.165777 ┆ … ┆ 21.951269 ┆ 0.199503  ┆ 0.485079 ┆ 00066be8e │\n",
       "│ 20318869c ┆           ┆           ┆           ┆   ┆           ┆           ┆          ┆ 20318869c │\n",
       "│ 38c66be46 ┆           ┆           ┆           ┆   ┆           ┆           ┆          ┆ 38c66be46 │\n",
       "│ 6631a_320 ┆           ┆           ┆           ┆   ┆           ┆           ┆          ┆ 6631a     │\n",
       "│ 00066be8e ┆ 11.176292 ┆ 0.279881  ┆ -11.62569 ┆ … ┆ 31.383814 ┆ 1.42507   ┆ 0.073083 ┆ 00066be8e │\n",
       "│ 20318869c ┆           ┆           ┆ 7         ┆   ┆           ┆           ┆          ┆ 20318869c │\n",
       "│ 38c66be46 ┆           ┆           ┆           ┆   ┆           ┆           ┆          ┆ 38c66be46 │\n",
       "│ 6631a_420 ┆           ┆           ┆           ┆   ┆           ┆           ┆          ┆ 6631a     │\n",
       "│ 00066be8e ┆ 10.472548 ┆ 0.231099  ┆ -2.985105 ┆ … ┆ 30.460033 ┆ -0.841894 ┆ 0.152889 ┆ 00066be8e │\n",
       "│ 20318869c ┆           ┆           ┆           ┆   ┆           ┆           ┆          ┆ 20318869c │\n",
       "│ 38c66be46 ┆           ┆           ┆           ┆   ┆           ┆           ┆          ┆ 38c66be46 │\n",
       "│ 6631a_520 ┆           ┆           ┆           ┆   ┆           ┆           ┆          ┆ 6631a     │\n",
       "│ 000fb056f ┆ 6.055565  ┆ -0.117775 ┆ 7.632668  ┆ … ┆ 19.311182 ┆ 1.374655  ┆ 0.058754 ┆ 000fb056f │\n",
       "│ 97572d384 ┆           ┆           ┆           ┆   ┆           ┆           ┆          ┆ 97572d384 │\n",
       "│ bae4f5fc1 ┆           ┆           ┆           ┆   ┆           ┆           ┆          ┆ bae4f5fc1 │\n",
       "│ e0f28_120 ┆           ┆           ┆           ┆   ┆           ┆           ┆          ┆ e0f28     │\n",
       "│ 000fb056f ┆ 3.316744  ┆ 1.276733  ┆ -31.72547 ┆ … ┆ 14.657048 ┆ -0.7788   ┆ 0.044243 ┆ 000fb056f │\n",
       "│ 97572d384 ┆           ┆           ┆ 7         ┆   ┆           ┆           ┆          ┆ 97572d384 │\n",
       "│ bae4f5fc1 ┆           ┆           ┆           ┆   ┆           ┆           ┆          ┆ bae4f5fc1 │\n",
       "│ e0f28_20  ┆           ┆           ┆           ┆   ┆           ┆           ┆          ┆ e0f28     │\n",
       "└───────────┴───────────┴───────────┴───────────┴───┴───────────┴───────────┴──────────┴───────────┘"
      ]
     },
     "execution_count": 31,
     "metadata": {},
     "output_type": "execute_result"
    }
   ],
   "source": [
    "# scene列を作成 → これでGroupKFoldする\n",
    "train = train.with_columns(pl.col(\"ID\").str.split(\"_\").list[0].alias(\"scene\"))\n",
    "test = test.with_columns(pl.col(\"ID\").str.split(\"_\").list[0].alias(\"scene\"))\n",
    "train.head()\n"
   ]
  }
 ],
 "metadata": {
  "kernelspec": {
   "display_name": ".venv",
   "language": "python",
   "name": "python3"
  },
  "language_info": {
   "codemirror_mode": {
    "name": "ipython",
    "version": 3
   },
   "file_extension": ".py",
   "mimetype": "text/x-python",
   "name": "python",
   "nbconvert_exporter": "python",
   "pygments_lexer": "ipython3",
   "version": "3.12.3"
  }
 },
 "nbformat": 4,
 "nbformat_minor": 2
}
