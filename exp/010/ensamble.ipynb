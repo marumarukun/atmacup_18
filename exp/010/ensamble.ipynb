{
 "cells": [
  {
   "cell_type": "code",
   "execution_count": 1,
   "metadata": {},
   "outputs": [],
   "source": [
    "from pathlib import Path\n",
    "\n",
    "import numpy as np\n",
    "import polars as pl\n"
   ]
  },
  {
   "cell_type": "code",
   "execution_count": 5,
   "metadata": {},
   "outputs": [],
   "source": [
    "# CSVファイルが格納されているディレクトリのパス\n",
    "csv_dir = Path(\"./csv\")\n",
    "\n",
    "# 全てのCSVファイルのデータをnumpy配列として読み込む\n",
    "arrays = []\n",
    "for csv_file in csv_dir.glob(\"*.csv\"):\n",
    "    df = pl.read_csv(csv_file)\n",
    "    arrays.append(df.to_numpy())\n",
    "\n",
    "# numpy配列をスタックして、axis=0方向（ファイル方向）で平均を取る\n",
    "stacked_arrays = np.stack(arrays)\n",
    "mean_array = np.mean(stacked_arrays, axis=0)\n",
    "\n",
    "# 結果をpolarsデータフレームに変換して保存\n",
    "result_df = pl.DataFrame(mean_array, schema=pl.read_csv(next(csv_dir.glob(\"*.csv\"))).columns)\n",
    "result_df.write_csv(\"ensamble.csv\")\n"
   ]
  },
  {
   "cell_type": "code",
   "execution_count": 6,
   "metadata": {},
   "outputs": [
    {
     "data": {
      "text/html": [
       "<div><style>\n",
       ".dataframe > thead > tr,\n",
       ".dataframe > tbody > tr {\n",
       "  text-align: right;\n",
       "  white-space: pre-wrap;\n",
       "}\n",
       "</style>\n",
       "<small>shape: (1_727, 18)</small><table border=\"1\" class=\"dataframe\"><thead><tr><th>x_0</th><th>y_0</th><th>z_0</th><th>x_1</th><th>y_1</th><th>z_1</th><th>x_2</th><th>y_2</th><th>z_2</th><th>x_3</th><th>y_3</th><th>z_3</th><th>x_4</th><th>y_4</th><th>z_4</th><th>x_5</th><th>y_5</th><th>z_5</th></tr><tr><td>f64</td><td>f64</td><td>f64</td><td>f64</td><td>f64</td><td>f64</td><td>f64</td><td>f64</td><td>f64</td><td>f64</td><td>f64</td><td>f64</td><td>f64</td><td>f64</td><td>f64</td><td>f64</td><td>f64</td><td>f64</td></tr></thead><tbody><tr><td>1.499128</td><td>-0.041256</td><td>-0.001223</td><td>3.081032</td><td>-0.073089</td><td>-0.004221</td><td>4.668898</td><td>-0.081493</td><td>-0.007264</td><td>6.181625</td><td>-0.06484</td><td>-0.007186</td><td>7.586379</td><td>-0.027045</td><td>-0.00631</td><td>8.908663</td><td>0.076109</td><td>-0.012388</td></tr><tr><td>1.006229</td><td>0.35972</td><td>-0.005412</td><td>1.997271</td><td>0.947508</td><td>-0.006818</td><td>2.848446</td><td>1.788569</td><td>-0.007189</td><td>3.557705</td><td>2.849156</td><td>-0.010696</td><td>4.091233</td><td>4.023945</td><td>-0.000055</td><td>4.400963</td><td>5.402001</td><td>0.016411</td></tr><tr><td>1.602635</td><td>0.005857</td><td>-0.006986</td><td>3.26402</td><td>0.022705</td><td>-0.01378</td><td>4.773148</td><td>0.013463</td><td>-0.018704</td><td>6.282566</td><td>0.023987</td><td>-0.02436</td><td>7.641014</td><td>0.022954</td><td>-0.036079</td><td>8.938627</td><td>0.014086</td><td>-0.051462</td></tr><tr><td>0.87214</td><td>0.066007</td><td>-0.002437</td><td>1.681224</td><td>0.171083</td><td>-0.002395</td><td>2.399448</td><td>0.316973</td><td>-0.00496</td><td>3.10529</td><td>0.579069</td><td>-0.002784</td><td>3.780932</td><td>0.896178</td><td>-0.000932</td><td>4.298574</td><td>1.327172</td><td>0.002085</td></tr><tr><td>0.858733</td><td>-0.000654</td><td>-0.005425</td><td>1.514185</td><td>0.002423</td><td>-0.011943</td><td>1.85658</td><td>0.003439</td><td>-0.025474</td><td>2.041425</td><td>0.008276</td><td>-0.036567</td><td>2.002303</td><td>-0.004924</td><td>-0.05121</td><td>1.557325</td><td>-0.006757</td><td>-0.064875</td></tr><tr><td>&hellip;</td><td>&hellip;</td><td>&hellip;</td><td>&hellip;</td><td>&hellip;</td><td>&hellip;</td><td>&hellip;</td><td>&hellip;</td><td>&hellip;</td><td>&hellip;</td><td>&hellip;</td><td>&hellip;</td><td>&hellip;</td><td>&hellip;</td><td>&hellip;</td><td>&hellip;</td><td>&hellip;</td><td>&hellip;</td></tr><tr><td>6.541111</td><td>0.034215</td><td>0.017554</td><td>13.798911</td><td>0.122251</td><td>0.030923</td><td>21.028545</td><td>0.301167</td><td>0.033949</td><td>28.288174</td><td>0.570807</td><td>0.038248</td><td>35.575502</td><td>0.90458</td><td>0.03406</td><td>42.968679</td><td>1.299433</td><td>0.024449</td></tr><tr><td>6.993218</td><td>0.005614</td><td>-0.009316</td><td>14.933624</td><td>0.008955</td><td>-0.046188</td><td>22.923142</td><td>-0.003682</td><td>-0.105326</td><td>30.958988</td><td>0.00233</td><td>-0.185657</td><td>39.134601</td><td>-0.001856</td><td>-0.306556</td><td>47.379012</td><td>-0.019716</td><td>-0.414422</td></tr><tr><td>7.413747</td><td>0.001928</td><td>0.014979</td><td>15.6718</td><td>-0.017592</td><td>0.043343</td><td>23.883404</td><td>-0.037181</td><td>0.070536</td><td>32.057312</td><td>-0.050592</td><td>0.102499</td><td>40.159946</td><td>-0.03324</td><td>0.142039</td><td>48.219282</td><td>-0.012615</td><td>0.177096</td></tr><tr><td>6.527987</td><td>0.001576</td><td>0.002711</td><td>13.693698</td><td>0.015373</td><td>0.034423</td><td>20.765797</td><td>0.041916</td><td>0.117205</td><td>27.775114</td><td>0.099399</td><td>0.232586</td><td>34.773307</td><td>0.135626</td><td>0.400985</td><td>41.701391</td><td>0.194465</td><td>0.600887</td></tr><tr><td>5.779347</td><td>-0.28075</td><td>0.004439</td><td>12.217836</td><td>-1.083965</td><td>-0.020745</td><td>18.707145</td><td>-2.40478</td><td>-0.074723</td><td>25.1654</td><td>-4.288019</td><td>-0.159518</td><td>31.535771</td><td>-6.585405</td><td>-0.286732</td><td>37.793006</td><td>-9.337867</td><td>-0.424623</td></tr></tbody></table></div>"
      ],
      "text/plain": [
       "shape: (1_727, 18)\n",
       "┌──────────┬───────────┬───────────┬───────────┬───┬───────────┬───────────┬───────────┬───────────┐\n",
       "│ x_0      ┆ y_0       ┆ z_0       ┆ x_1       ┆ … ┆ z_4       ┆ x_5       ┆ y_5       ┆ z_5       │\n",
       "│ ---      ┆ ---       ┆ ---       ┆ ---       ┆   ┆ ---       ┆ ---       ┆ ---       ┆ ---       │\n",
       "│ f64      ┆ f64       ┆ f64       ┆ f64       ┆   ┆ f64       ┆ f64       ┆ f64       ┆ f64       │\n",
       "╞══════════╪═══════════╪═══════════╪═══════════╪═══╪═══════════╪═══════════╪═══════════╪═══════════╡\n",
       "│ 1.499128 ┆ -0.041256 ┆ -0.001223 ┆ 3.081032  ┆ … ┆ -0.00631  ┆ 8.908663  ┆ 0.076109  ┆ -0.012388 │\n",
       "│ 1.006229 ┆ 0.35972   ┆ -0.005412 ┆ 1.997271  ┆ … ┆ -0.000055 ┆ 4.400963  ┆ 5.402001  ┆ 0.016411  │\n",
       "│ 1.602635 ┆ 0.005857  ┆ -0.006986 ┆ 3.26402   ┆ … ┆ -0.036079 ┆ 8.938627  ┆ 0.014086  ┆ -0.051462 │\n",
       "│ 0.87214  ┆ 0.066007  ┆ -0.002437 ┆ 1.681224  ┆ … ┆ -0.000932 ┆ 4.298574  ┆ 1.327172  ┆ 0.002085  │\n",
       "│ 0.858733 ┆ -0.000654 ┆ -0.005425 ┆ 1.514185  ┆ … ┆ -0.05121  ┆ 1.557325  ┆ -0.006757 ┆ -0.064875 │\n",
       "│ …        ┆ …         ┆ …         ┆ …         ┆ … ┆ …         ┆ …         ┆ …         ┆ …         │\n",
       "│ 6.541111 ┆ 0.034215  ┆ 0.017554  ┆ 13.798911 ┆ … ┆ 0.03406   ┆ 42.968679 ┆ 1.299433  ┆ 0.024449  │\n",
       "│ 6.993218 ┆ 0.005614  ┆ -0.009316 ┆ 14.933624 ┆ … ┆ -0.306556 ┆ 47.379012 ┆ -0.019716 ┆ -0.414422 │\n",
       "│ 7.413747 ┆ 0.001928  ┆ 0.014979  ┆ 15.6718   ┆ … ┆ 0.142039  ┆ 48.219282 ┆ -0.012615 ┆ 0.177096  │\n",
       "│ 6.527987 ┆ 0.001576  ┆ 0.002711  ┆ 13.693698 ┆ … ┆ 0.400985  ┆ 41.701391 ┆ 0.194465  ┆ 0.600887  │\n",
       "│ 5.779347 ┆ -0.28075  ┆ 0.004439  ┆ 12.217836 ┆ … ┆ -0.286732 ┆ 37.793006 ┆ -9.337867 ┆ -0.424623 │\n",
       "└──────────┴───────────┴───────────┴───────────┴───┴───────────┴───────────┴───────────┴───────────┘"
      ]
     },
     "execution_count": 6,
     "metadata": {},
     "output_type": "execute_result"
    }
   ],
   "source": [
    "result_df\n"
   ]
  }
 ],
 "metadata": {
  "kernelspec": {
   "display_name": ".venv",
   "language": "python",
   "name": "python3"
  },
  "language_info": {
   "codemirror_mode": {
    "name": "ipython",
    "version": 3
   },
   "file_extension": ".py",
   "mimetype": "text/x-python",
   "name": "python",
   "nbconvert_exporter": "python",
   "pygments_lexer": "ipython3",
   "version": "3.12.3"
  }
 },
 "nbformat": 4,
 "nbformat_minor": 2
}
