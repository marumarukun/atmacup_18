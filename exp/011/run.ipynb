{
 "cells": [
  {
   "cell_type": "code",
   "execution_count": 1,
   "metadata": {},
   "outputs": [
    {
     "name": "stderr",
     "output_type": "stream",
     "text": [
      "/home/marumarukun/pj/compe/atma_18/.venv/lib/python3.12/site-packages/tqdm/auto.py:21: TqdmWarning: IProgress not found. Please update jupyter and ipywidgets. See https://ipywidgets.readthedocs.io/en/stable/user_install.html\n",
      "  from .autonotebook import tqdm as notebook_tqdm\n"
     ]
    },
    {
     "name": "stdout",
     "output_type": "stream",
     "text": [
      "exp_number: '011'\n",
      "run_time: base\n",
      "data:\n",
      "  input_root: ../../data/input\n",
      "  train_path: ../../data/input/train_features.csv\n",
      "  test_path: ../../data/input/test_features.csv\n",
      "  sample_submission_path: ../../data/input/sample_submission.csv\n",
      "  img_root: ../../data/input/images\n",
      "  json_root: ../../data/input/traffic_lights\n",
      "  depth_root: ../../data/input/depth\n",
      "  output_root: ../../data/output\n",
      "  results_root: ../../results\n",
      "  results_path: ../../results/011/base\n",
      "seed: 319\n",
      "n_splits: 5\n",
      "target_cols:\n",
      "- x_0\n",
      "- y_0\n",
      "- z_0\n",
      "- x_1\n",
      "- y_1\n",
      "- z_1\n",
      "- x_2\n",
      "- y_2\n",
      "- z_2\n",
      "- x_3\n",
      "- y_3\n",
      "- z_3\n",
      "- x_4\n",
      "- y_4\n",
      "- z_4\n",
      "- x_5\n",
      "- y_5\n",
      "- z_5\n",
      "cnn:\n",
      "  model_name: resnet18.a1_in1k\n",
      "  size: 224\n",
      "  pretrained: true\n",
      "  in_chans: 20\n",
      "  target_size: 18\n",
      "  lr: 0.001\n",
      "  num_epochs: 6\n",
      "  batch_size: 64\n",
      "\n",
      "Using device: cuda\n"
     ]
    }
   ],
   "source": [
    "import json\n",
    "from datetime import datetime\n",
    "from pathlib import Path\n",
    "\n",
    "import albumentations as A\n",
    "import cv2\n",
    "import numpy as np\n",
    "import polars as pl\n",
    "import pytz\n",
    "import timm\n",
    "import torch\n",
    "import torch.nn.functional as F\n",
    "from albumentations.pytorch import ToTensorV2\n",
    "from omegaconf import OmegaConf\n",
    "from sklearn.model_selection import GroupKFold\n",
    "from sklearn.preprocessing import StandardScaler\n",
    "from torch import nn\n",
    "from torch.utils.data import DataLoader, Dataset\n",
    "from tqdm.auto import tqdm\n",
    "from transformers import get_cosine_schedule_with_warmup\n",
    "\n",
    "from src.config import cfg\n",
    "from src.dir import create_dir\n",
    "from src.seed import seed_everything\n",
    "\n",
    "cfg.exp_number = Path().resolve().name\n",
    "print(OmegaConf.to_yaml(cfg, resolve=True))\n",
    "\n",
    "seed_everything(cfg.seed)\n",
    "pl.Config.set_fmt_str_lengths(1000)\n",
    "\n",
    "device = torch.device(\"cuda\" if torch.cuda.is_available() else \"cpu\")\n",
    "print(f\"Using device: {device}\")\n"
   ]
  },
  {
   "cell_type": "markdown",
   "metadata": {},
   "source": [
    "### exp011\n",
    "\n",
    "- late sub\n",
    "- 信号機のマスク情報とdepth画像をチャネル方向に結合して入力とするNN\n",
    "- 数値特徴量も入力とする\n",
    "- 全結合層を4層に\n",
    "- targetを標準化して学習する → 推論時にスケールを戻す\n",
    "- backbone：resnet18"
   ]
  },
  {
   "cell_type": "markdown",
   "metadata": {},
   "source": [
    "### データの読み込み"
   ]
  },
  {
   "cell_type": "code",
   "execution_count": 2,
   "metadata": {},
   "outputs": [],
   "source": [
    "# データの読み込み\n",
    "train = pl.read_csv(cfg.data.train_path, try_parse_dates=True).with_row_index()\n",
    "test = pl.read_csv(cfg.data.test_path, try_parse_dates=True).with_row_index()\n",
    "sample_submission = pl.read_csv(cfg.data.sample_submission_path, try_parse_dates=True).with_row_index()\n",
    "\n",
    "\n",
    "# scene列を作成 → これでGroupKFoldする\n",
    "train = train.with_columns(pl.col(\"ID\").str.split(\"_\").list[0].alias(\"scene\"))\n",
    "test = test.with_columns(pl.col(\"ID\").str.split(\"_\").list[0].alias(\"scene\"))\n",
    "\n",
    "# データの結合(label encoding用)\n",
    "train_test = pl.concat([train, test], how=\"diagonal\")\n",
    "\n",
    "# CV\n",
    "gkf = GroupKFold(n_splits=cfg.n_splits)\n"
   ]
  },
  {
   "cell_type": "code",
   "execution_count": 3,
   "metadata": {},
   "outputs": [],
   "source": [
    "# 数値特徴量の前処理\n",
    "numeric_cols = [\"vEgo\", \"aEgo\", \"steeringAngleDeg\", \"steeringTorque\", \"gas\"]\n",
    "\n",
    "# 欠損を埋める\n",
    "train_test = train_test.with_columns([pl.col(col).fill_null(0) for col in numeric_cols])\n",
    "\n",
    "# 全ての数値特徴量を標準化\n",
    "scaler = StandardScaler()\n",
    "scaled_features = scaler.fit_transform(train_test[numeric_cols].to_numpy())\n",
    "\n",
    "# 標準化した値でDataFrameを更新\n",
    "train_test = train_test.with_columns(\n",
    "    [pl.Series(scaled_features[:, i]).alias(col) for i, col in enumerate(numeric_cols)]\n",
    ")\n"
   ]
  },
  {
   "cell_type": "code",
   "execution_count": 4,
   "metadata": {},
   "outputs": [],
   "source": [
    "# train, testに分ける\n",
    "train = train_test.filter(pl.col(\"x_0\").is_not_null()).sort(\"index\")\n",
    "test = train_test.filter(pl.col(\"x_0\").is_null()).sort(\"index\")\n"
   ]
  },
  {
   "cell_type": "code",
   "execution_count": 5,
   "metadata": {},
   "outputs": [],
   "source": [
    "# targetを標準化\n",
    "target_scaler = StandardScaler()\n",
    "scaled_targets = target_scaler.fit_transform(train[cfg.target_cols].to_numpy())  # これは予測値に対しても使う\n",
    "train_target_scaled = train.with_columns(\n",
    "    [pl.Series(scaled_targets[:, i]).alias(col) for i, col in enumerate(cfg.target_cols)]\n",
    ")\n"
   ]
  },
  {
   "cell_type": "markdown",
   "metadata": {},
   "source": [
    "### データ拡張\n"
   ]
  },
  {
   "cell_type": "code",
   "execution_count": 6,
   "metadata": {},
   "outputs": [],
   "source": [
    "def get_train_transform():\n",
    "    return A.ReplayCompose(\n",
    "        [\n",
    "            A.Resize(cfg.cnn.size, cfg.cnn.size),\n",
    "            A.Normalize(mean=[0.485, 0.456, 0.406], std=[0.229, 0.224, 0.225]),\n",
    "            ToTensorV2(),\n",
    "        ]\n",
    "    )\n",
    "\n",
    "\n",
    "def get_valid_transform():\n",
    "    return A.ReplayCompose(\n",
    "        [\n",
    "            A.Resize(cfg.cnn.size, cfg.cnn.size),\n",
    "            A.Normalize(mean=[0.485, 0.456, 0.406], std=[0.229, 0.224, 0.225]),\n",
    "            ToTensorV2(),\n",
    "        ]\n",
    "    )\n"
   ]
  },
  {
   "cell_type": "markdown",
   "metadata": {},
   "source": [
    "### 信号機マスク"
   ]
  },
  {
   "cell_type": "code",
   "execution_count": 7,
   "metadata": {},
   "outputs": [],
   "source": [
    "class TrafficLightMaskGenerator:\n",
    "    TRAFFIC_LIGHT_CLASSES = [\"green\", \"yellow\", \"red\", \"straight\", \"left\", \"right\", \"empty\", \"other\"]\n",
    "\n",
    "    def __init__(self, image_size: list[int, int] | int | None = None):\n",
    "        self.original_size = (128, 64)  # (width, height)\n",
    "\n",
    "        if isinstance(image_size, list):\n",
    "            self.image_size = (image_size[1], image_size[0])\n",
    "        elif isinstance(image_size, int):\n",
    "            self.image_size = (image_size, image_size)\n",
    "        else:\n",
    "            self.image_size = self.original_size\n",
    "\n",
    "        self.scale = (self.image_size[0] / self.original_size[0], self.image_size[1] / self.original_size[1])\n",
    "\n",
    "        self.class_to_index = {cls: idx for idx, cls in enumerate(self.TRAFFIC_LIGHT_CLASSES)}\n",
    "\n",
    "    def scale_bbox(self, bbox):\n",
    "        x1, y1, x2, y2 = bbox\n",
    "        return [x1 * self.scale[0], y1 * self.scale[1], x2 * self.scale[0], y2 * self.scale[1]]\n",
    "\n",
    "    def _convert_coordinate(self, coord, max_size):\n",
    "        \"\"\"座標を適切な範囲に収める\"\"\"\n",
    "        return max(0, min(int(round(coord)), max_size - 1))\n",
    "\n",
    "    def generate_masks(self, traffic_lights_json):\n",
    "        # PosixPathオブジェクトを文字列に変換\n",
    "        if isinstance(traffic_lights_json, Path):\n",
    "            traffic_lights_json = str(traffic_lights_json)\n",
    "\n",
    "        traffic_lights = (\n",
    "            json.load(open(traffic_lights_json)) if isinstance(traffic_lights_json, str) else traffic_lights_json\n",
    "        )\n",
    "\n",
    "        masks = np.zeros((self.image_size[1], self.image_size[0], len(self.TRAFFIC_LIGHT_CLASSES)), dtype=np.float32)\n",
    "\n",
    "        for light in traffic_lights:\n",
    "            class_idx = self.class_to_index[light[\"class\"]]\n",
    "            scaled_bbox = self.scale_bbox(light[\"bbox\"])\n",
    "\n",
    "            # 座標を適切な範囲に収める\n",
    "            x1 = self._convert_coordinate(scaled_bbox[0], self.image_size[0])\n",
    "            y1 = self._convert_coordinate(scaled_bbox[1], self.image_size[1])\n",
    "            x2 = self._convert_coordinate(scaled_bbox[2], self.image_size[0])\n",
    "            y2 = self._convert_coordinate(scaled_bbox[3], self.image_size[1])\n",
    "\n",
    "            masks[y1 : y2 + 1, x1 : x2 + 1, class_idx] = 1.0\n",
    "\n",
    "        return masks\n"
   ]
  },
  {
   "cell_type": "markdown",
   "metadata": {},
   "source": [
    "### データセット"
   ]
  },
  {
   "cell_type": "code",
   "execution_count": 8,
   "metadata": {},
   "outputs": [],
   "source": [
    "class CustomDataset(Dataset):\n",
    "    def __init__(self, df, img_dir, json_dir, depth_dir, transform=None, is_train=True):\n",
    "        self.df = df\n",
    "        self.img_dir = Path(img_dir)\n",
    "        self.json_dir = Path(json_dir)\n",
    "        self.depth_dir = Path(depth_dir)\n",
    "        self.is_train = is_train\n",
    "        self.feature_cols = [\n",
    "            \"vEgo\",\n",
    "            \"aEgo\",\n",
    "            \"steeringAngleDeg\",\n",
    "            \"steeringTorque\",\n",
    "            \"gas\",\n",
    "            \"leftBlinker\",\n",
    "            \"rightBlinker\",\n",
    "            \"brakePressed\",\n",
    "        ]\n",
    "\n",
    "        # オリジナル画像用の変換処理\n",
    "        if transform is None:\n",
    "            self.transform = A.ReplayCompose(\n",
    "                [\n",
    "                    A.Resize(cfg.cnn.size, cfg.cnn.size),\n",
    "                    A.Normalize(\n",
    "                        mean=[0.485, 0.456, 0.406],  # 通常のImageNet平均値\n",
    "                        std=[0.229, 0.224, 0.225],  # 通常のImageNet標準偏差\n",
    "                    ),\n",
    "                    ToTensorV2(),\n",
    "                ]\n",
    "            )\n",
    "        else:\n",
    "            self.transform = transform\n",
    "\n",
    "        # Depth Map用の変換処理\n",
    "        self.depth_transform = A.ReplayCompose(\n",
    "            [\n",
    "                A.Resize(cfg.cnn.size, cfg.cnn.size),\n",
    "                A.Normalize(mean=[0.5], std=[0.5]),\n",
    "                ToTensorV2(),\n",
    "            ]\n",
    "        )\n",
    "\n",
    "        self.target_cols = cfg.target_cols\n",
    "        self.mask_generator = TrafficLightMaskGenerator(cfg.cnn.size)\n",
    "\n",
    "    def __len__(self):\n",
    "        return len(self.df)\n",
    "\n",
    "    def __getitem__(self, idx):\n",
    "        row = self.df[idx]\n",
    "        img_folder = self.img_dir / row[\"ID\"].item()\n",
    "        depth_folder = self.depth_dir / row[\"ID\"].item()\n",
    "        json_path = self.json_dir / f\"{row['ID'].item()}.json\"\n",
    "\n",
    "        # 3枚の画像を読み込み\n",
    "        img_names = [\"image_t-1.0.png\", \"image_t-0.5.png\", \"image_t.png\"]\n",
    "        imgs = []\n",
    "        depths = []\n",
    "\n",
    "        for img_name in img_names:\n",
    "            # オリジナル画像の読み込み\n",
    "            img_path = img_folder / img_name\n",
    "            img = cv2.imread(str(img_path))\n",
    "            img = cv2.cvtColor(img, cv2.COLOR_BGR2RGB)\n",
    "            imgs.append(img)\n",
    "\n",
    "            # Depth Mapの読み込み\n",
    "            depth_path = depth_folder / img_name\n",
    "            depth = cv2.imread(str(depth_path), cv2.IMREAD_GRAYSCALE)\n",
    "            depths.append(depth)\n",
    "\n",
    "        # オリジナル画像の変換\n",
    "        if self.transform:\n",
    "            replay = None\n",
    "            transformed_imgs = []\n",
    "\n",
    "            for img in imgs:\n",
    "                if replay is None:\n",
    "                    # 最初の画像に対して変換を実行し、replayを保存\n",
    "                    transformed = self.transform(image=img)\n",
    "                    replay = transformed[\"replay\"]\n",
    "                else:\n",
    "                    # 2枚目以降は保存したreplayを使用\n",
    "                    transformed = A.ReplayCompose.replay(replay, image=img)\n",
    "                transformed_imgs.append(transformed[\"image\"])\n",
    "\n",
    "        # Depth Mapの変換\n",
    "        transformed_depths = []\n",
    "        for depth in depths:\n",
    "            transformed_depth = self.depth_transform(image=depth)\n",
    "            transformed_depths.append(transformed_depth[\"image\"])\n",
    "\n",
    "        # オリジナル画像をチャネル方向に結合 (C*3, H, W)\n",
    "        img_tensor = torch.cat(transformed_imgs, dim=0)\n",
    "\n",
    "        # Depth Mapをチャネル方向に結合 (3, H, W)\n",
    "        depth_tensor = torch.cat(transformed_depths, dim=0)\n",
    "\n",
    "        # 信号機マスクの生成\n",
    "        mask = self.mask_generator.generate_masks(json_path)\n",
    "        mask_tensor = torch.from_numpy(mask).permute(2, 0, 1)  # (8, H, W)\n",
    "\n",
    "        # 画像, Depth Map, 信号機マスクをチャネル方向に結合 (C*3+3+8=20, H, W)\n",
    "        combined_tensor = torch.cat([img_tensor, depth_tensor, mask_tensor], dim=0)\n",
    "\n",
    "        # 数値特徴量の取得\n",
    "        feature_tensor = torch.tensor(row[self.feature_cols].to_numpy(), dtype=torch.float32).squeeze(0)\n",
    "\n",
    "        # ターゲットの準備\n",
    "        if self.is_train:\n",
    "            target = torch.tensor(row[self.target_cols].to_numpy(), dtype=torch.float32).squeeze(0)\n",
    "            return combined_tensor, feature_tensor, target\n",
    "        else:\n",
    "            return combined_tensor, feature_tensor\n"
   ]
  },
  {
   "cell_type": "markdown",
   "metadata": {},
   "source": [
    "### モデル"
   ]
  },
  {
   "cell_type": "code",
   "execution_count": 11,
   "metadata": {},
   "outputs": [],
   "source": [
    "class CustomModel(nn.Module):\n",
    "    def __init__(self, cfg, pretrained=False, target_size=None, model_name=None):\n",
    "        super().__init__()\n",
    "\n",
    "        self.encoder = timm.create_model(\n",
    "            cfg.model_name,\n",
    "            pretrained=cfg.pretrained,\n",
    "            num_classes=0,\n",
    "            in_chans=cfg.in_chans,\n",
    "        )\n",
    "\n",
    "        self.n_features = self.encoder.num_features\n",
    "        self.n_numeric_features = 8\n",
    "        self.target_size = cfg.target_size if target_size is None else target_size\n",
    "\n",
    "        # 数値特徴量用のMLP\n",
    "        self.numeric_mlp = nn.Linear(self.n_numeric_features, 128)\n",
    "\n",
    "        # 結合後の特徴量の次元\n",
    "        head_dim = self.n_features + 128\n",
    "\n",
    "        # ヘッド部分を残差接続を使用する形に変更\n",
    "        self.head1 = nn.Linear(head_dim, head_dim)\n",
    "        self.head2 = nn.Linear(head_dim, head_dim)\n",
    "        self.head3 = nn.Linear(head_dim, head_dim)\n",
    "        self.final_layer = nn.Linear(head_dim, self.target_size)\n",
    "\n",
    "    def forward(self, image, numeric_features):\n",
    "        # 画像特徴量の抽出\n",
    "        x = self.encoder(image)\n",
    "\n",
    "        # 数値特徴量の処理\n",
    "        f = self.numeric_mlp(numeric_features)\n",
    "\n",
    "        # 特徴量の結合\n",
    "        x = torch.cat([x, f], dim=-1)\n",
    "        x = F.gelu(x)\n",
    "\n",
    "        # 残差接続を使用したヘッド部分\n",
    "        x_res = F.gelu(self.head1(x))\n",
    "        x = x + x_res\n",
    "\n",
    "        x_res = F.gelu(self.head2(x))\n",
    "        x = x + x_res\n",
    "\n",
    "        x_res = F.gelu(self.head3(x))\n",
    "        x = x + x_res\n",
    "\n",
    "        # 最終層\n",
    "        x = self.final_layer(x)\n",
    "        return x\n"
   ]
  },
  {
   "cell_type": "code",
   "execution_count": 12,
   "metadata": {},
   "outputs": [
    {
     "data": {
      "text/plain": [
       "torch.Size([1, 18])"
      ]
     },
     "execution_count": 12,
     "metadata": {},
     "output_type": "execute_result"
    }
   ],
   "source": [
    "# model test\n",
    "model = CustomModel(cfg.cnn)\n",
    "\n",
    "tmp_image = torch.randn(1, 20, 224, 224)\n",
    "tmp_numeric_features = torch.randn(1, 8)\n",
    "\n",
    "tmp_output = model(tmp_image, tmp_numeric_features)\n",
    "\n",
    "tmp_output.shape\n"
   ]
  },
  {
   "cell_type": "markdown",
   "metadata": {},
   "source": [
    "### 学習"
   ]
  },
  {
   "cell_type": "code",
   "execution_count": 12,
   "metadata": {},
   "outputs": [],
   "source": [
    "DEBUG = False\n",
    "\n",
    "if DEBUG:\n",
    "    cfg.cnn.num_epochs = 1\n",
    "    train = train.head(100)\n"
   ]
  },
  {
   "cell_type": "code",
   "execution_count": 13,
   "metadata": {},
   "outputs": [
    {
     "name": "stdout",
     "output_type": "stream",
     "text": [
      "Directory created: ../../results/011/20241125_171020\n",
      "Fold 1\n"
     ]
    },
    {
     "name": "stderr",
     "output_type": "stream",
     "text": [
      "100%|██████████| 543/543 [06:28<00:00,  1.40it/s]\n"
     ]
    },
    {
     "name": "stdout",
     "output_type": "stream",
     "text": [
      "Epoch 1, Valid Loss: 0.3177\n"
     ]
    },
    {
     "name": "stderr",
     "output_type": "stream",
     "text": [
      "100%|██████████| 543/543 [05:46<00:00,  1.57it/s]\n"
     ]
    },
    {
     "name": "stdout",
     "output_type": "stream",
     "text": [
      "Epoch 2, Valid Loss: 0.2989\n"
     ]
    },
    {
     "name": "stderr",
     "output_type": "stream",
     "text": [
      "100%|██████████| 543/543 [05:47<00:00,  1.56it/s]\n"
     ]
    },
    {
     "name": "stdout",
     "output_type": "stream",
     "text": [
      "Epoch 3, Valid Loss: 0.3017\n"
     ]
    },
    {
     "name": "stderr",
     "output_type": "stream",
     "text": [
      "100%|██████████| 543/543 [05:45<00:00,  1.57it/s]\n"
     ]
    },
    {
     "name": "stdout",
     "output_type": "stream",
     "text": [
      "Epoch 4, Valid Loss: 0.2902\n"
     ]
    },
    {
     "name": "stderr",
     "output_type": "stream",
     "text": [
      "100%|██████████| 543/543 [05:48<00:00,  1.56it/s]\n"
     ]
    },
    {
     "name": "stdout",
     "output_type": "stream",
     "text": [
      "Epoch 5, Valid Loss: 0.2902\n"
     ]
    },
    {
     "name": "stderr",
     "output_type": "stream",
     "text": [
      "100%|██████████| 543/543 [05:49<00:00,  1.55it/s]\n"
     ]
    },
    {
     "name": "stdout",
     "output_type": "stream",
     "text": [
      "Epoch 6, Valid Loss: 0.2921\n"
     ]
    },
    {
     "name": "stderr",
     "output_type": "stream",
     "text": [
      "/tmp/ipykernel_66102/869172084.py:90: FutureWarning: You are using `torch.load` with `weights_only=False` (the current default value), which uses the default pickle module implicitly. It is possible to construct malicious pickle data which will execute arbitrary code during unpickling (See https://github.com/pytorch/pytorch/blob/main/SECURITY.md#untrusted-models for more details). In a future release, the default value for `weights_only` will be flipped to `True`. This limits the functions that could be executed during unpickling. Arbitrary objects will no longer be allowed to be loaded via this mode unless they are explicitly allowlisted by the user via `torch.serialization.add_safe_globals`. We recommend you start setting `weights_only=True` for any use case where you don't have full control of the loaded file. Please open an issue on GitHub for any issues related to this experimental feature.\n",
      "  model.load_state_dict(torch.load(f\"{cfg.data.results_path}/model_fold{fold}.pth\"))\n"
     ]
    },
    {
     "name": "stdout",
     "output_type": "stream",
     "text": [
      "Fold 2\n"
     ]
    },
    {
     "name": "stderr",
     "output_type": "stream",
     "text": [
      "100%|██████████| 543/543 [05:50<00:00,  1.55it/s]\n"
     ]
    },
    {
     "name": "stdout",
     "output_type": "stream",
     "text": [
      "Epoch 1, Valid Loss: 0.3211\n"
     ]
    },
    {
     "name": "stderr",
     "output_type": "stream",
     "text": [
      "100%|██████████| 543/543 [05:50<00:00,  1.55it/s]\n"
     ]
    },
    {
     "name": "stdout",
     "output_type": "stream",
     "text": [
      "Epoch 2, Valid Loss: 0.3003\n"
     ]
    },
    {
     "name": "stderr",
     "output_type": "stream",
     "text": [
      "100%|██████████| 543/543 [05:52<00:00,  1.54it/s]\n"
     ]
    },
    {
     "name": "stdout",
     "output_type": "stream",
     "text": [
      "Epoch 3, Valid Loss: 0.2896\n"
     ]
    },
    {
     "name": "stderr",
     "output_type": "stream",
     "text": [
      "100%|██████████| 543/543 [05:51<00:00,  1.54it/s]\n"
     ]
    },
    {
     "name": "stdout",
     "output_type": "stream",
     "text": [
      "Epoch 4, Valid Loss: 0.2861\n"
     ]
    },
    {
     "name": "stderr",
     "output_type": "stream",
     "text": [
      "100%|██████████| 543/543 [05:51<00:00,  1.54it/s]\n"
     ]
    },
    {
     "name": "stdout",
     "output_type": "stream",
     "text": [
      "Epoch 5, Valid Loss: 0.2854\n"
     ]
    },
    {
     "name": "stderr",
     "output_type": "stream",
     "text": [
      "100%|██████████| 543/543 [05:49<00:00,  1.55it/s]\n"
     ]
    },
    {
     "name": "stdout",
     "output_type": "stream",
     "text": [
      "Epoch 6, Valid Loss: 0.2873\n",
      "Fold 3\n"
     ]
    },
    {
     "name": "stderr",
     "output_type": "stream",
     "text": [
      "100%|██████████| 543/543 [05:54<00:00,  1.53it/s]\n"
     ]
    },
    {
     "name": "stdout",
     "output_type": "stream",
     "text": [
      "Epoch 1, Valid Loss: 0.3253\n"
     ]
    },
    {
     "name": "stderr",
     "output_type": "stream",
     "text": [
      "100%|██████████| 543/543 [05:55<00:00,  1.53it/s]\n"
     ]
    },
    {
     "name": "stdout",
     "output_type": "stream",
     "text": [
      "Epoch 2, Valid Loss: 0.3091\n"
     ]
    },
    {
     "name": "stderr",
     "output_type": "stream",
     "text": [
      "100%|██████████| 543/543 [05:55<00:00,  1.53it/s]\n"
     ]
    },
    {
     "name": "stdout",
     "output_type": "stream",
     "text": [
      "Epoch 3, Valid Loss: 0.3027\n"
     ]
    },
    {
     "name": "stderr",
     "output_type": "stream",
     "text": [
      "100%|██████████| 543/543 [05:55<00:00,  1.53it/s]\n"
     ]
    },
    {
     "name": "stdout",
     "output_type": "stream",
     "text": [
      "Epoch 4, Valid Loss: 0.2908\n"
     ]
    },
    {
     "name": "stderr",
     "output_type": "stream",
     "text": [
      "100%|██████████| 543/543 [05:50<00:00,  1.55it/s]\n"
     ]
    },
    {
     "name": "stdout",
     "output_type": "stream",
     "text": [
      "Epoch 5, Valid Loss: 0.2932\n"
     ]
    },
    {
     "name": "stderr",
     "output_type": "stream",
     "text": [
      "100%|██████████| 543/543 [05:51<00:00,  1.54it/s]\n"
     ]
    },
    {
     "name": "stdout",
     "output_type": "stream",
     "text": [
      "Epoch 6, Valid Loss: 0.2965\n",
      "Fold 4\n"
     ]
    },
    {
     "name": "stderr",
     "output_type": "stream",
     "text": [
      "100%|██████████| 543/543 [05:48<00:00,  1.56it/s]\n"
     ]
    },
    {
     "name": "stdout",
     "output_type": "stream",
     "text": [
      "Epoch 1, Valid Loss: 0.3274\n"
     ]
    },
    {
     "name": "stderr",
     "output_type": "stream",
     "text": [
      "100%|██████████| 543/543 [05:50<00:00,  1.55it/s]\n"
     ]
    },
    {
     "name": "stdout",
     "output_type": "stream",
     "text": [
      "Epoch 2, Valid Loss: 0.3088\n"
     ]
    },
    {
     "name": "stderr",
     "output_type": "stream",
     "text": [
      "100%|██████████| 543/543 [05:50<00:00,  1.55it/s]\n"
     ]
    },
    {
     "name": "stdout",
     "output_type": "stream",
     "text": [
      "Epoch 3, Valid Loss: 0.3032\n"
     ]
    },
    {
     "name": "stderr",
     "output_type": "stream",
     "text": [
      "100%|██████████| 543/543 [05:52<00:00,  1.54it/s]\n"
     ]
    },
    {
     "name": "stdout",
     "output_type": "stream",
     "text": [
      "Epoch 4, Valid Loss: 0.2981\n"
     ]
    },
    {
     "name": "stderr",
     "output_type": "stream",
     "text": [
      "100%|██████████| 543/543 [05:51<00:00,  1.55it/s]\n"
     ]
    },
    {
     "name": "stdout",
     "output_type": "stream",
     "text": [
      "Epoch 5, Valid Loss: 0.2938\n"
     ]
    },
    {
     "name": "stderr",
     "output_type": "stream",
     "text": [
      "100%|██████████| 543/543 [05:47<00:00,  1.56it/s]\n"
     ]
    },
    {
     "name": "stdout",
     "output_type": "stream",
     "text": [
      "Epoch 6, Valid Loss: 0.2938\n",
      "Fold 5\n"
     ]
    },
    {
     "name": "stderr",
     "output_type": "stream",
     "text": [
      "100%|██████████| 543/543 [05:46<00:00,  1.57it/s]\n"
     ]
    },
    {
     "name": "stdout",
     "output_type": "stream",
     "text": [
      "Epoch 1, Valid Loss: 0.3195\n"
     ]
    },
    {
     "name": "stderr",
     "output_type": "stream",
     "text": [
      "100%|██████████| 543/543 [05:47<00:00,  1.56it/s]\n"
     ]
    },
    {
     "name": "stdout",
     "output_type": "stream",
     "text": [
      "Epoch 2, Valid Loss: 0.3083\n"
     ]
    },
    {
     "name": "stderr",
     "output_type": "stream",
     "text": [
      "100%|██████████| 543/543 [05:47<00:00,  1.56it/s]\n"
     ]
    },
    {
     "name": "stdout",
     "output_type": "stream",
     "text": [
      "Epoch 3, Valid Loss: 0.2942\n"
     ]
    },
    {
     "name": "stderr",
     "output_type": "stream",
     "text": [
      "100%|██████████| 543/543 [05:45<00:00,  1.57it/s]\n"
     ]
    },
    {
     "name": "stdout",
     "output_type": "stream",
     "text": [
      "Epoch 4, Valid Loss: 0.2908\n"
     ]
    },
    {
     "name": "stderr",
     "output_type": "stream",
     "text": [
      "100%|██████████| 543/543 [05:47<00:00,  1.56it/s]\n"
     ]
    },
    {
     "name": "stdout",
     "output_type": "stream",
     "text": [
      "Epoch 5, Valid Loss: 0.2871\n"
     ]
    },
    {
     "name": "stderr",
     "output_type": "stream",
     "text": [
      "100%|██████████| 543/543 [05:47<00:00,  1.56it/s]\n"
     ]
    },
    {
     "name": "stdout",
     "output_type": "stream",
     "text": [
      "Epoch 6, Valid Loss: 0.2898\n",
      "CV Score: 0.2301\n"
     ]
    }
   ],
   "source": [
    "# 実験結果格納用のディレクトリを作成\n",
    "japan_tz = pytz.timezone(\"Asia/Tokyo\")\n",
    "cfg.run_time = datetime.now(japan_tz).strftime(\"%Y%m%d_%H%M%S\")\n",
    "create_dir(cfg.data.results_path)\n",
    "\n",
    "# CV用の配列を初期化\n",
    "oof_predictions = np.zeros((len(train), len(cfg.target_cols)))\n",
    "models = {}\n",
    "\n",
    "for fold, (train_idx, valid_idx) in enumerate(gkf.split(train, groups=train[\"scene\"])):\n",
    "    print(f\"Fold {fold + 1}\")\n",
    "\n",
    "    # データセットの作成\n",
    "    train_dataset = CustomDataset(\n",
    "        train_target_scaled[train_idx],\n",
    "        cfg.data.img_root,\n",
    "        cfg.data.json_root,\n",
    "        cfg.data.depth_root,\n",
    "        transform=get_train_transform(),\n",
    "    )\n",
    "    valid_dataset = CustomDataset(\n",
    "        train_target_scaled[valid_idx],\n",
    "        cfg.data.img_root,\n",
    "        cfg.data.json_root,\n",
    "        cfg.data.depth_root,\n",
    "        transform=get_valid_transform(),\n",
    "    )\n",
    "\n",
    "    train_loader = DataLoader(\n",
    "        train_dataset,\n",
    "        batch_size=cfg.cnn.batch_size,\n",
    "        shuffle=True,\n",
    "    )\n",
    "    valid_loader = DataLoader(\n",
    "        valid_dataset,\n",
    "        batch_size=cfg.cnn.batch_size,\n",
    "        shuffle=False,\n",
    "    )\n",
    "\n",
    "    # モデル、損失関数、オプティマイザーの初期化\n",
    "    model = CustomModel(cfg.cnn).to(device)\n",
    "    # criterion = nn.HuberLoss()\n",
    "    criterion = nn.L1Loss()\n",
    "    optimizer = torch.optim.AdamW(model.parameters(), lr=cfg.cnn.lr)\n",
    "    total_steps = len(train_loader) * cfg.cnn.num_epochs\n",
    "    scheduler = get_cosine_schedule_with_warmup(\n",
    "        optimizer=optimizer,\n",
    "        num_warmup_steps=total_steps * 0.1,\n",
    "        num_training_steps=total_steps,\n",
    "    )\n",
    "\n",
    "    best_loss = float(\"inf\")\n",
    "\n",
    "    # 学習ループ\n",
    "    for epoch in range(cfg.cnn.num_epochs):\n",
    "        model.train()\n",
    "        for images, numeric_features, targets in tqdm(train_loader):\n",
    "            images = images.to(device)\n",
    "            numeric_features = numeric_features.to(device)\n",
    "            targets = targets.to(device)\n",
    "\n",
    "            optimizer.zero_grad()\n",
    "            outputs = model(images, numeric_features)\n",
    "            loss = criterion(outputs, targets)\n",
    "            loss.backward()\n",
    "            optimizer.step()\n",
    "            scheduler.step()\n",
    "\n",
    "        # 検証\n",
    "        model.eval()\n",
    "        valid_losses = []\n",
    "        with torch.no_grad():\n",
    "            for images, numeric_features, targets in valid_loader:\n",
    "                images = images.to(device)\n",
    "                numeric_features = numeric_features.to(device)\n",
    "                targets = targets.to(device)\n",
    "                outputs = model(images, numeric_features)\n",
    "                loss = criterion(outputs, targets)\n",
    "                valid_losses.append(loss.item())\n",
    "\n",
    "        valid_loss = np.mean(valid_losses)\n",
    "        print(f\"Epoch {epoch + 1}, Valid Loss: {valid_loss:.4f}\")\n",
    "\n",
    "        # ベストモデルの保存\n",
    "        if valid_loss < best_loss:\n",
    "            best_loss = valid_loss\n",
    "            torch.save(model.state_dict(), f\"{cfg.data.results_path}/model_fold{fold}.pth\")\n",
    "\n",
    "    # ベストモデルでOOF予測\n",
    "    model.load_state_dict(torch.load(f\"{cfg.data.results_path}/model_fold{fold}.pth\"))\n",
    "    model.eval()\n",
    "\n",
    "    valid_dataset = CustomDataset(\n",
    "        train_target_scaled[valid_idx],\n",
    "        cfg.data.img_root,\n",
    "        cfg.data.json_root,\n",
    "        cfg.data.depth_root,\n",
    "        transform=get_valid_transform(),\n",
    "    )\n",
    "    valid_loader = DataLoader(valid_dataset, batch_size=cfg.cnn.batch_size, shuffle=False)\n",
    "\n",
    "    with torch.no_grad():\n",
    "        for i, (images, numeric_features, _) in enumerate(valid_loader):\n",
    "            images = images.to(device)\n",
    "            numeric_features = numeric_features.to(device)\n",
    "            outputs = model(images, numeric_features)\n",
    "            start_idx = i * cfg.cnn.batch_size\n",
    "            end_idx = start_idx + outputs.shape[0]\n",
    "            oof_predictions[valid_idx[start_idx:end_idx]] = outputs.cpu().numpy()\n",
    "\n",
    "# CVスコアの計算（MAEの平均）\n",
    "\n",
    "# oofのスケールを戻す\n",
    "oof_predictions = target_scaler.inverse_transform(oof_predictions)\n",
    "mae_scores = []\n",
    "for i in range(len(cfg.target_cols)):\n",
    "    mae = np.mean(np.abs(oof_predictions[:, i] - train[cfg.target_cols[i]].to_numpy()))\n",
    "    mae_scores.append(mae)\n",
    "\n",
    "cv_score = np.mean(mae_scores)\n",
    "print(f\"CV Score: {cv_score:.4f}\")\n",
    "\n",
    "# oofを保存\n",
    "np.save(f\"{cfg.data.results_path}/oof_predictions.npy\", oof_predictions)\n"
   ]
  },
  {
   "cell_type": "markdown",
   "metadata": {},
   "source": [
    "### 推論"
   ]
  },
  {
   "cell_type": "code",
   "execution_count": 14,
   "metadata": {},
   "outputs": [
    {
     "name": "stdout",
     "output_type": "stream",
     "text": [
      "Predicting using fold 1 model\n"
     ]
    },
    {
     "name": "stderr",
     "output_type": "stream",
     "text": [
      "/tmp/ipykernel_66102/2561028609.py:16: FutureWarning: You are using `torch.load` with `weights_only=False` (the current default value), which uses the default pickle module implicitly. It is possible to construct malicious pickle data which will execute arbitrary code during unpickling (See https://github.com/pytorch/pytorch/blob/main/SECURITY.md#untrusted-models for more details). In a future release, the default value for `weights_only` will be flipped to `True`. This limits the functions that could be executed during unpickling. Arbitrary objects will no longer be allowed to be loaded via this mode unless they are explicitly allowlisted by the user via `torch.serialization.add_safe_globals`. We recommend you start setting `weights_only=True` for any use case where you don't have full control of the loaded file. Please open an issue on GitHub for any issues related to this experimental feature.\n",
      "  model.load_state_dict(torch.load(f\"{cfg.data.results_path}/model_fold{fold}.pth\"))\n",
      "100%|██████████| 27/27 [00:18<00:00,  1.44it/s]\n"
     ]
    },
    {
     "name": "stdout",
     "output_type": "stream",
     "text": [
      "Predicting using fold 2 model\n"
     ]
    },
    {
     "name": "stderr",
     "output_type": "stream",
     "text": [
      "100%|██████████| 27/27 [00:14<00:00,  1.85it/s]\n"
     ]
    },
    {
     "name": "stdout",
     "output_type": "stream",
     "text": [
      "Predicting using fold 3 model\n"
     ]
    },
    {
     "name": "stderr",
     "output_type": "stream",
     "text": [
      "100%|██████████| 27/27 [00:14<00:00,  1.82it/s]\n"
     ]
    },
    {
     "name": "stdout",
     "output_type": "stream",
     "text": [
      "Predicting using fold 4 model\n"
     ]
    },
    {
     "name": "stderr",
     "output_type": "stream",
     "text": [
      "100%|██████████| 27/27 [00:15<00:00,  1.79it/s]\n"
     ]
    },
    {
     "name": "stdout",
     "output_type": "stream",
     "text": [
      "Predicting using fold 5 model\n"
     ]
    },
    {
     "name": "stderr",
     "output_type": "stream",
     "text": [
      "100%|██████████| 27/27 [00:15<00:00,  1.79it/s]"
     ]
    },
    {
     "name": "stdout",
     "output_type": "stream",
     "text": [
      "Submission file created!\n"
     ]
    },
    {
     "name": "stderr",
     "output_type": "stream",
     "text": [
      "\n"
     ]
    },
    {
     "data": {
      "text/html": [
       "<div><style>\n",
       ".dataframe > thead > tr,\n",
       ".dataframe > tbody > tr {\n",
       "  text-align: right;\n",
       "  white-space: pre-wrap;\n",
       "}\n",
       "</style>\n",
       "<small>shape: (5, 19)</small><table border=\"1\" class=\"dataframe\"><thead><tr><th>index</th><th>x_0</th><th>y_0</th><th>z_0</th><th>x_1</th><th>y_1</th><th>z_1</th><th>x_2</th><th>y_2</th><th>z_2</th><th>x_3</th><th>y_3</th><th>z_3</th><th>x_4</th><th>y_4</th><th>z_4</th><th>x_5</th><th>y_5</th><th>z_5</th></tr><tr><td>u32</td><td>f64</td><td>f64</td><td>f64</td><td>f64</td><td>f64</td><td>f64</td><td>f64</td><td>f64</td><td>f64</td><td>f64</td><td>f64</td><td>f64</td><td>f64</td><td>f64</td><td>f64</td><td>f64</td><td>f64</td><td>f64</td></tr></thead><tbody><tr><td>0</td><td>1.509224</td><td>-0.04287</td><td>-0.00129</td><td>3.160403</td><td>-0.098146</td><td>-0.001588</td><td>4.865201</td><td>-0.136848</td><td>-0.00223</td><td>6.540105</td><td>-0.163504</td><td>-0.001587</td><td>8.128198</td><td>-0.177112</td><td>0.003408</td><td>9.718334</td><td>-0.159615</td><td>0.004606</td></tr><tr><td>1</td><td>0.987087</td><td>0.241964</td><td>0.002795</td><td>1.947887</td><td>0.655553</td><td>0.004662</td><td>2.716895</td><td>1.211648</td><td>0.007026</td><td>3.230977</td><td>1.866431</td><td>0.008919</td><td>3.727248</td><td>2.669359</td><td>0.017142</td><td>4.347911</td><td>3.581027</td><td>0.024149</td></tr><tr><td>2</td><td>1.608291</td><td>0.010712</td><td>-0.005222</td><td>3.283525</td><td>0.012346</td><td>-0.013045</td><td>4.843604</td><td>0.004019</td><td>-0.021401</td><td>6.230978</td><td>-0.019411</td><td>-0.030951</td><td>7.498572</td><td>-0.048523</td><td>-0.041159</td><td>8.710584</td><td>-0.091013</td><td>-0.059077</td></tr><tr><td>3</td><td>0.884888</td><td>0.038398</td><td>-0.004868</td><td>1.768406</td><td>0.162253</td><td>-0.011618</td><td>2.519007</td><td>0.39785</td><td>-0.015538</td><td>3.109251</td><td>0.761445</td><td>-0.021936</td><td>3.464343</td><td>1.256645</td><td>-0.03671</td><td>3.771318</td><td>1.834416</td><td>-0.048578</td></tr><tr><td>4</td><td>0.840664</td><td>0.004389</td><td>-0.015152</td><td>1.446311</td><td>0.005444</td><td>-0.036583</td><td>1.822072</td><td>0.002128</td><td>-0.058446</td><td>1.986617</td><td>-0.003701</td><td>-0.085316</td><td>2.210059</td><td>-0.010085</td><td>-0.105658</td><td>2.260313</td><td>-0.007922</td><td>-0.12976</td></tr></tbody></table></div>"
      ],
      "text/plain": [
       "shape: (5, 19)\n",
       "┌───────┬──────────┬──────────┬───────────┬───┬───────────┬──────────┬───────────┬───────────┐\n",
       "│ index ┆ x_0      ┆ y_0      ┆ z_0       ┆ … ┆ z_4       ┆ x_5      ┆ y_5       ┆ z_5       │\n",
       "│ ---   ┆ ---      ┆ ---      ┆ ---       ┆   ┆ ---       ┆ ---      ┆ ---       ┆ ---       │\n",
       "│ u32   ┆ f64      ┆ f64      ┆ f64       ┆   ┆ f64       ┆ f64      ┆ f64       ┆ f64       │\n",
       "╞═══════╪══════════╪══════════╪═══════════╪═══╪═══════════╪══════════╪═══════════╪═══════════╡\n",
       "│ 0     ┆ 1.509224 ┆ -0.04287 ┆ -0.00129  ┆ … ┆ 0.003408  ┆ 9.718334 ┆ -0.159615 ┆ 0.004606  │\n",
       "│ 1     ┆ 0.987087 ┆ 0.241964 ┆ 0.002795  ┆ … ┆ 0.017142  ┆ 4.347911 ┆ 3.581027  ┆ 0.024149  │\n",
       "│ 2     ┆ 1.608291 ┆ 0.010712 ┆ -0.005222 ┆ … ┆ -0.041159 ┆ 8.710584 ┆ -0.091013 ┆ -0.059077 │\n",
       "│ 3     ┆ 0.884888 ┆ 0.038398 ┆ -0.004868 ┆ … ┆ -0.03671  ┆ 3.771318 ┆ 1.834416  ┆ -0.048578 │\n",
       "│ 4     ┆ 0.840664 ┆ 0.004389 ┆ -0.015152 ┆ … ┆ -0.105658 ┆ 2.260313 ┆ -0.007922 ┆ -0.12976  │\n",
       "└───────┴──────────┴──────────┴───────────┴───┴───────────┴──────────┴───────────┴───────────┘"
      ]
     },
     "execution_count": 14,
     "metadata": {},
     "output_type": "execute_result"
    }
   ],
   "source": [
    "# testの推論\n",
    "test_dataset = CustomDataset(\n",
    "    test, cfg.data.img_root, cfg.data.json_root, cfg.data.depth_root, transform=get_valid_transform(), is_train=False\n",
    ")\n",
    "test_loader = DataLoader(test_dataset, batch_size=cfg.cnn.batch_size, shuffle=False)\n",
    "\n",
    "# fold分の予測値を格納する配列\n",
    "test_predictions = np.zeros((len(test), len(cfg.target_cols), cfg.n_splits))\n",
    "\n",
    "# 各foldのモデルで予測\n",
    "for fold in range(cfg.n_splits):\n",
    "    print(f\"Predicting using fold {fold + 1} model\")\n",
    "\n",
    "    # モデルの読み込み\n",
    "    model = CustomModel(cfg.cnn).to(device)\n",
    "    model.load_state_dict(torch.load(f\"{cfg.data.results_path}/model_fold{fold}.pth\"))\n",
    "    model.eval()\n",
    "\n",
    "    fold_predictions = []\n",
    "    with torch.no_grad():\n",
    "        for images, numeric_features in tqdm(test_loader):\n",
    "            images = images.to(device)\n",
    "            numeric_features = numeric_features.to(device)\n",
    "            outputs = model(images, numeric_features)\n",
    "            fold_predictions.append(outputs.cpu().numpy())\n",
    "\n",
    "    # バッチごとの予測を結合\n",
    "    fold_predictions = np.concatenate(fold_predictions, axis=0)\n",
    "    test_predictions[:, :, fold] = fold_predictions\n",
    "\n",
    "# fold分の予測値の平均を計算\n",
    "final_predictions = test_predictions.mean(axis=2)\n",
    "\n",
    "# 推論値のスケールを戻す\n",
    "final_predictions = target_scaler.inverse_transform(final_predictions)\n",
    "\n",
    "# submissionファイルの作成\n",
    "exprs = [pl.Series(final_predictions[:, i]).alias(cfg.target_cols[i]) for i in range(len(cfg.target_cols))]\n",
    "submission = sample_submission.with_columns(exprs)\n",
    "submission.write_csv(f\"{cfg.data.results_path}/submission.csv\")\n",
    "print(\"Submission file created!\")\n",
    "\n",
    "# 確認\n",
    "submission.head()\n"
   ]
  },
  {
   "cell_type": "code",
   "execution_count": 15,
   "metadata": {},
   "outputs": [],
   "source": [
    "submission.drop(\"index\").write_csv(f\"{cfg.data.results_path}/submission.csv\")\n"
   ]
  },
  {
   "cell_type": "code",
   "execution_count": 16,
   "metadata": {},
   "outputs": [],
   "source": [
    "# final_predictionsを保存\n",
    "np.save(f\"{cfg.data.results_path}/final_predictions.npy\", final_predictions)\n"
   ]
  },
  {
   "cell_type": "code",
   "execution_count": 17,
   "metadata": {},
   "outputs": [
    {
     "data": {
      "text/plain": [
       "(1727, 18)"
      ]
     },
     "execution_count": 17,
     "metadata": {},
     "output_type": "execute_result"
    }
   ],
   "source": [
    "final_predictions.shape\n"
   ]
  }
 ],
 "metadata": {
  "kernelspec": {
   "display_name": ".venv",
   "language": "python",
   "name": "python3"
  },
  "language_info": {
   "codemirror_mode": {
    "name": "ipython",
    "version": 3
   },
   "file_extension": ".py",
   "mimetype": "text/x-python",
   "name": "python",
   "nbconvert_exporter": "python",
   "pygments_lexer": "ipython3",
   "version": "3.12.3"
  }
 },
 "nbformat": 4,
 "nbformat_minor": 2
}
